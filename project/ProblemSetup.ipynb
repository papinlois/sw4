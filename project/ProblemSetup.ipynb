{
 "cells": [
  {
   "attachments": {},
   "cell_type": "markdown",
   "id": "e4b5387f-8552-4ca8-b34c-736ebc9c675b",
   "metadata": {},
   "source": [
    "# Setup SW4\n",
    "\n",
    "Took Kate's notebook based on the UO SW4 group work; slurm job and runfile for SW4 from SVI Bostock's NLLoc locs\n",
    "\n",
    "To-do:\n",
    "- Change the outputs so it makes more sense for me and with how I will run things on talapas\n",
    "- Add cells that will allow me to make the link between *papers-moment tensor-beach ball-waveforms*"
   ]
  },
  {
   "cell_type": "code",
   "execution_count": 40,
   "id": "7e1d3276-c1da-4fc8-a89d-65e6fbdf2dec",
   "metadata": {},
   "outputs": [],
   "source": [
    "import numpy as np\n",
    "from obspy.geodetics.base import gps2dist_azimuth, kilometer2degrees\n",
    "import pandas as pd\n",
    "import xarray as xr\n",
    "import cartopy.crs as ccrs\n",
    "import matplotlib.pyplot as plt\n",
    "import sw4FileFunctions as sff\n",
    "base_dir = '/Users/lpapin/Documents/phd/projects/sw4/nonlinloc/'"
   ]
  },
  {
   "cell_type": "markdown",
   "id": "180e6e1b-6fc0-4718-a4d3-eaadcf48d7ca",
   "metadata": {},
   "source": [
    "## Slurm stuff"
   ]
  },
  {
   "cell_type": "code",
   "execution_count": 2,
   "id": "702cd4c3-b0d9-4c5b-a8e6-3c05024876c5",
   "metadata": {},
   "outputs": [],
   "source": [
    "mem_per_cpu=16 # I fix the memory per cpu and then ramp up the number of tasks\n",
    "tasks_lowerlim=4 # smalllest number of tasks you want the job to run on, probably gonna be more\n",
    "percentbuffer=1.30 # Buffer on memory allocation in Slurm, dividing up the calcualtions increases the memory requirement and this stops OOM errors\n",
    "partition_name=\"amt\" \n",
    "time_maximum=\"3-00:00:00\"\n",
    "account_name=\"amt\" \n",
    "# additional model stuff\n",
    "turn_off_topography = False\n",
    "simulation_duration=15 #how many seconds do we compute waveforms for\n",
    "use_velocity3D=True\n",
    "# output formats\n",
    "usgsformat=0 # 1 to output textfiles, 0 to sepress output\n",
    "sacformat=1 # 1 to output sac files, 0 to supress output"
   ]
  },
  {
   "cell_type": "markdown",
   "id": "4531624c-b043-4d54-b4e6-60c77dbf3466",
   "metadata": {},
   "source": [
    "## Event and Station locations"
   ]
  },
  {
   "cell_type": "markdown",
   "id": "0eaef043-bd73-45a7-aad3-f6520a047483",
   "metadata": {},
   "source": [
    "### Events\n",
    "\n",
    "Loading all the events locations (lfe_families in Bostock's case) and choosing the one that will be computed."
   ]
  },
  {
   "cell_type": "code",
   "execution_count": 3,
   "id": "fe5d2265-86c9-4548-afe8-0f481f429870",
   "metadata": {
    "scrolled": true
   },
   "outputs": [
    {
     "data": {
      "text/html": [
       "<div>\n",
       "<style scoped>\n",
       "    .dataframe tbody tr th:only-of-type {\n",
       "        vertical-align: middle;\n",
       "    }\n",
       "\n",
       "    .dataframe tbody tr th {\n",
       "        vertical-align: top;\n",
       "    }\n",
       "\n",
       "    .dataframe thead th {\n",
       "        text-align: right;\n",
       "    }\n",
       "</style>\n",
       "<table border=\"1\" class=\"dataframe\">\n",
       "  <thead>\n",
       "    <tr style=\"text-align: right;\">\n",
       "      <th></th>\n",
       "      <th>lfe_family</th>\n",
       "      <th>lat</th>\n",
       "      <th>lon</th>\n",
       "      <th>depth</th>\n",
       "      <th>rms</th>\n",
       "    </tr>\n",
       "  </thead>\n",
       "  <tbody>\n",
       "    <tr>\n",
       "      <th>0</th>\n",
       "      <td>001</td>\n",
       "      <td>48.423666</td>\n",
       "      <td>-123.917902</td>\n",
       "      <td>32.372559</td>\n",
       "      <td>0.071229</td>\n",
       "    </tr>\n",
       "    <tr>\n",
       "      <th>1</th>\n",
       "      <td>002</td>\n",
       "      <td>48.422867</td>\n",
       "      <td>-123.587693</td>\n",
       "      <td>35.248535</td>\n",
       "      <td>0.102789</td>\n",
       "    </tr>\n",
       "    <tr>\n",
       "      <th>2</th>\n",
       "      <td>003</td>\n",
       "      <td>48.184047</td>\n",
       "      <td>-123.526643</td>\n",
       "      <td>30.996419</td>\n",
       "      <td>0.157973</td>\n",
       "    </tr>\n",
       "    <tr>\n",
       "      <th>3</th>\n",
       "      <td>005</td>\n",
       "      <td>48.484357</td>\n",
       "      <td>-123.803422</td>\n",
       "      <td>34.521810</td>\n",
       "      <td>0.100317</td>\n",
       "    </tr>\n",
       "    <tr>\n",
       "      <th>4</th>\n",
       "      <td>006</td>\n",
       "      <td>48.462685</td>\n",
       "      <td>-123.945840</td>\n",
       "      <td>31.800456</td>\n",
       "      <td>0.061192</td>\n",
       "    </tr>\n",
       "    <tr>\n",
       "      <th>...</th>\n",
       "      <td>...</td>\n",
       "      <td>...</td>\n",
       "      <td>...</td>\n",
       "      <td>...</td>\n",
       "      <td>...</td>\n",
       "    </tr>\n",
       "    <tr>\n",
       "      <th>125</th>\n",
       "      <td>296</td>\n",
       "      <td>48.378417</td>\n",
       "      <td>-123.492724</td>\n",
       "      <td>37.737956</td>\n",
       "      <td>0.094714</td>\n",
       "    </tr>\n",
       "    <tr>\n",
       "      <th>126</th>\n",
       "      <td>297</td>\n",
       "      <td>48.388736</td>\n",
       "      <td>-123.526784</td>\n",
       "      <td>35.696940</td>\n",
       "      <td>0.136967</td>\n",
       "    </tr>\n",
       "    <tr>\n",
       "      <th>127</th>\n",
       "      <td>298</td>\n",
       "      <td>48.811199</td>\n",
       "      <td>-123.689150</td>\n",
       "      <td>42.330241</td>\n",
       "      <td>0.098607</td>\n",
       "    </tr>\n",
       "    <tr>\n",
       "      <th>128</th>\n",
       "      <td>299</td>\n",
       "      <td>48.885676</td>\n",
       "      <td>-123.880089</td>\n",
       "      <td>40.366536</td>\n",
       "      <td>0.146204</td>\n",
       "    </tr>\n",
       "    <tr>\n",
       "      <th>129</th>\n",
       "      <td>300</td>\n",
       "      <td>48.514663</td>\n",
       "      <td>-123.922471</td>\n",
       "      <td>32.743652</td>\n",
       "      <td>0.098346</td>\n",
       "    </tr>\n",
       "  </tbody>\n",
       "</table>\n",
       "<p>130 rows × 5 columns</p>\n",
       "</div>"
      ],
      "text/plain": [
       "    lfe_family        lat         lon      depth       rms\n",
       "0          001  48.423666 -123.917902  32.372559  0.071229\n",
       "1          002  48.422867 -123.587693  35.248535  0.102789\n",
       "2          003  48.184047 -123.526643  30.996419  0.157973\n",
       "3          005  48.484357 -123.803422  34.521810  0.100317\n",
       "4          006  48.462685 -123.945840  31.800456  0.061192\n",
       "..         ...        ...         ...        ...       ...\n",
       "125        296  48.378417 -123.492724  37.737956  0.094714\n",
       "126        297  48.388736 -123.526784  35.696940  0.136967\n",
       "127        298  48.811199 -123.689150  42.330241  0.098607\n",
       "128        299  48.885676 -123.880089  40.366536  0.146204\n",
       "129        300  48.514663 -123.922471  32.743652  0.098346\n",
       "\n",
       "[130 rows x 5 columns]"
      ]
     },
     "execution_count": 3,
     "metadata": {},
     "output_type": "execute_result"
    }
   ],
   "source": [
    "# Read in event location file\n",
    "eventLocs = pd.read_csv(base_dir + 'NLLoc_Bostock/locations.txt',\n",
    "                        usecols=[0, 1, 2, 3, 4], names=['lfe_family','lat', 'lon', 'depth', 'rms'], header=0)\n",
    "eventLocs['lfe_family']=eventLocs['lfe_family'].astype(str).str.zfill(3)\n",
    "eventLocs"
   ]
  },
  {
   "cell_type": "code",
   "execution_count": 4,
   "id": "918cf5c7-ea52-4519-91e3-78d607e2b592",
   "metadata": {},
   "outputs": [
    {
     "name": "stdout",
     "output_type": "stream",
     "text": [
      "lfe_family           159\n",
      "lat            48.224599\n",
      "lon          -123.604513\n",
      "depth          31.058268\n",
      "rms             0.097965\n",
      "Name: 60, dtype: object\n"
     ]
    }
   ],
   "source": [
    "# Multiple events? (if you only have one set this to false so that we dont try to plot those)\n",
    "multipleEvents=False ###just for the plot but also the limits\n",
    "#Pick Which Event to Model, or just put your event here\n",
    "event=eventLocs.loc[eventLocs['lfe_family'] == '159'].squeeze()\n",
    "print(event)\n",
    "# In addition to Event Locations Also feed me the maximum frequency you want to model\n",
    "freqMax=4 #Hz ###"
   ]
  },
  {
   "cell_type": "markdown",
   "id": "f81b0382-19f1-4af5-b5f6-48521b9930b3",
   "metadata": {},
   "source": [
    "### Stations\n",
    "\n",
    "Loading all the stations on SVI and choosing the ones that will be computed."
   ]
  },
  {
   "cell_type": "code",
   "execution_count": 5,
   "id": "e097dc16-f929-45eb-bd29-8d06bf059e92",
   "metadata": {},
   "outputs": [
    {
     "data": {
      "text/html": [
       "<div>\n",
       "<style scoped>\n",
       "    .dataframe tbody tr th:only-of-type {\n",
       "        vertical-align: middle;\n",
       "    }\n",
       "\n",
       "    .dataframe tbody tr th {\n",
       "        vertical-align: top;\n",
       "    }\n",
       "\n",
       "    .dataframe thead th {\n",
       "        text-align: right;\n",
       "    }\n",
       "</style>\n",
       "<table border=\"1\" class=\"dataframe\">\n",
       "  <thead>\n",
       "    <tr style=\"text-align: right;\">\n",
       "      <th></th>\n",
       "      <th>sta</th>\n",
       "      <th>lat</th>\n",
       "      <th>lon</th>\n",
       "      <th>elev</th>\n",
       "    </tr>\n",
       "  </thead>\n",
       "  <tbody>\n",
       "    <tr>\n",
       "      <th>0</th>\n",
       "      <td>BPCB</td>\n",
       "      <td>48.9236</td>\n",
       "      <td>-123.704500</td>\n",
       "      <td>31.0</td>\n",
       "    </tr>\n",
       "    <tr>\n",
       "      <th>1</th>\n",
       "      <td>GLBC</td>\n",
       "      <td>48.3960</td>\n",
       "      <td>-123.636300</td>\n",
       "      <td>100.0</td>\n",
       "    </tr>\n",
       "    <tr>\n",
       "      <th>2</th>\n",
       "      <td>JRBC</td>\n",
       "      <td>48.3957</td>\n",
       "      <td>-123.960000</td>\n",
       "      <td>20.0</td>\n",
       "    </tr>\n",
       "    <tr>\n",
       "      <th>3</th>\n",
       "      <td>LCBC</td>\n",
       "      <td>48.4834</td>\n",
       "      <td>-124.261900</td>\n",
       "      <td>100.0</td>\n",
       "    </tr>\n",
       "    <tr>\n",
       "      <th>4</th>\n",
       "      <td>KHVB</td>\n",
       "      <td>48.5688</td>\n",
       "      <td>-123.466300</td>\n",
       "      <td>39.0</td>\n",
       "    </tr>\n",
       "    <tr>\n",
       "      <th>5</th>\n",
       "      <td>MGCB</td>\n",
       "      <td>48.6317</td>\n",
       "      <td>-123.680800</td>\n",
       "      <td>236.0</td>\n",
       "    </tr>\n",
       "    <tr>\n",
       "      <th>6</th>\n",
       "      <td>PHYB</td>\n",
       "      <td>49.0828</td>\n",
       "      <td>-123.843100</td>\n",
       "      <td>39.0</td>\n",
       "    </tr>\n",
       "    <tr>\n",
       "      <th>7</th>\n",
       "      <td>SHDB</td>\n",
       "      <td>48.7970</td>\n",
       "      <td>-123.636000</td>\n",
       "      <td>55.0</td>\n",
       "    </tr>\n",
       "    <tr>\n",
       "      <th>8</th>\n",
       "      <td>SHVB</td>\n",
       "      <td>48.4723</td>\n",
       "      <td>-123.636000</td>\n",
       "      <td>69.0</td>\n",
       "    </tr>\n",
       "    <tr>\n",
       "      <th>9</th>\n",
       "      <td>SOKB</td>\n",
       "      <td>48.3947</td>\n",
       "      <td>-123.673100</td>\n",
       "      <td>45.0</td>\n",
       "    </tr>\n",
       "    <tr>\n",
       "      <th>10</th>\n",
       "      <td>TWBB</td>\n",
       "      <td>48.5846</td>\n",
       "      <td>-124.092000</td>\n",
       "      <td>122.0</td>\n",
       "    </tr>\n",
       "    <tr>\n",
       "      <th>11</th>\n",
       "      <td>GOBB</td>\n",
       "      <td>48.9490</td>\n",
       "      <td>-123.510000</td>\n",
       "      <td>173.0</td>\n",
       "    </tr>\n",
       "    <tr>\n",
       "      <th>12</th>\n",
       "      <td>MGB</td>\n",
       "      <td>49.0000</td>\n",
       "      <td>-124.697000</td>\n",
       "      <td>1310.0</td>\n",
       "    </tr>\n",
       "    <tr>\n",
       "      <th>13</th>\n",
       "      <td>LZB</td>\n",
       "      <td>48.6122</td>\n",
       "      <td>-123.824000</td>\n",
       "      <td>794.0</td>\n",
       "    </tr>\n",
       "    <tr>\n",
       "      <th>14</th>\n",
       "      <td>NLLB</td>\n",
       "      <td>49.2271</td>\n",
       "      <td>-123.988200</td>\n",
       "      <td>199.0</td>\n",
       "    </tr>\n",
       "    <tr>\n",
       "      <th>15</th>\n",
       "      <td>PFB</td>\n",
       "      <td>48.5747</td>\n",
       "      <td>-124.454100</td>\n",
       "      <td>449.0</td>\n",
       "    </tr>\n",
       "    <tr>\n",
       "      <th>16</th>\n",
       "      <td>PGC</td>\n",
       "      <td>48.6498</td>\n",
       "      <td>-123.452100</td>\n",
       "      <td>12.0</td>\n",
       "    </tr>\n",
       "    <tr>\n",
       "      <th>17</th>\n",
       "      <td>SNB</td>\n",
       "      <td>48.7751</td>\n",
       "      <td>-123.172300</td>\n",
       "      <td>402.0</td>\n",
       "    </tr>\n",
       "    <tr>\n",
       "      <th>18</th>\n",
       "      <td>VGZ</td>\n",
       "      <td>48.4131</td>\n",
       "      <td>-123.325100</td>\n",
       "      <td>67.0</td>\n",
       "    </tr>\n",
       "    <tr>\n",
       "      <th>19</th>\n",
       "      <td>YOUB</td>\n",
       "      <td>48.9010</td>\n",
       "      <td>-124.261800</td>\n",
       "      <td>771.0</td>\n",
       "    </tr>\n",
       "    <tr>\n",
       "      <th>20</th>\n",
       "      <td>GOWB</td>\n",
       "      <td>48.7369</td>\n",
       "      <td>-123.184800</td>\n",
       "      <td>29.0</td>\n",
       "    </tr>\n",
       "    <tr>\n",
       "      <th>21</th>\n",
       "      <td>KELB</td>\n",
       "      <td>48.6610</td>\n",
       "      <td>-123.570000</td>\n",
       "      <td>53.0</td>\n",
       "    </tr>\n",
       "    <tr>\n",
       "      <th>22</th>\n",
       "      <td>KLNB</td>\n",
       "      <td>48.6611</td>\n",
       "      <td>-123.570600</td>\n",
       "      <td>0.0</td>\n",
       "    </tr>\n",
       "    <tr>\n",
       "      <th>23</th>\n",
       "      <td>SILB</td>\n",
       "      <td>48.6020</td>\n",
       "      <td>-123.281500</td>\n",
       "      <td>76.0</td>\n",
       "    </tr>\n",
       "    <tr>\n",
       "      <th>24</th>\n",
       "      <td>SSIB</td>\n",
       "      <td>48.7558</td>\n",
       "      <td>-123.387500</td>\n",
       "      <td>12.0</td>\n",
       "    </tr>\n",
       "    <tr>\n",
       "      <th>25</th>\n",
       "      <td>TSJB</td>\n",
       "      <td>48.6013</td>\n",
       "      <td>-123.988500</td>\n",
       "      <td>378.0</td>\n",
       "    </tr>\n",
       "    <tr>\n",
       "      <th>26</th>\n",
       "      <td>TWGB</td>\n",
       "      <td>48.6076</td>\n",
       "      <td>-124.255800</td>\n",
       "      <td>127.0</td>\n",
       "    </tr>\n",
       "    <tr>\n",
       "      <th>27</th>\n",
       "      <td>TWKB</td>\n",
       "      <td>48.6448</td>\n",
       "      <td>-123.733200</td>\n",
       "      <td>128.0</td>\n",
       "    </tr>\n",
       "    <tr>\n",
       "      <th>28</th>\n",
       "      <td>B927</td>\n",
       "      <td>49.2188</td>\n",
       "      <td>-124.811302</td>\n",
       "      <td>39.0</td>\n",
       "    </tr>\n",
       "  </tbody>\n",
       "</table>\n",
       "</div>"
      ],
      "text/plain": [
       "     sta      lat         lon    elev\n",
       "0   BPCB  48.9236 -123.704500    31.0\n",
       "1   GLBC  48.3960 -123.636300   100.0\n",
       "2   JRBC  48.3957 -123.960000    20.0\n",
       "3   LCBC  48.4834 -124.261900   100.0\n",
       "4   KHVB  48.5688 -123.466300    39.0\n",
       "5   MGCB  48.6317 -123.680800   236.0\n",
       "6   PHYB  49.0828 -123.843100    39.0\n",
       "7   SHDB  48.7970 -123.636000    55.0\n",
       "8   SHVB  48.4723 -123.636000    69.0\n",
       "9   SOKB  48.3947 -123.673100    45.0\n",
       "10  TWBB  48.5846 -124.092000   122.0\n",
       "11  GOBB  48.9490 -123.510000   173.0\n",
       "12   MGB  49.0000 -124.697000  1310.0\n",
       "13   LZB  48.6122 -123.824000   794.0\n",
       "14  NLLB  49.2271 -123.988200   199.0\n",
       "15   PFB  48.5747 -124.454100   449.0\n",
       "16   PGC  48.6498 -123.452100    12.0\n",
       "17   SNB  48.7751 -123.172300   402.0\n",
       "18   VGZ  48.4131 -123.325100    67.0\n",
       "19  YOUB  48.9010 -124.261800   771.0\n",
       "20  GOWB  48.7369 -123.184800    29.0\n",
       "21  KELB  48.6610 -123.570000    53.0\n",
       "22  KLNB  48.6611 -123.570600     0.0\n",
       "23  SILB  48.6020 -123.281500    76.0\n",
       "24  SSIB  48.7558 -123.387500    12.0\n",
       "25  TSJB  48.6013 -123.988500   378.0\n",
       "26  TWGB  48.6076 -124.255800   127.0\n",
       "27  TWKB  48.6448 -123.733200   128.0\n",
       "28  B927  49.2188 -124.811302    39.0"
      ]
     },
     "execution_count": 5,
     "metadata": {},
     "output_type": "execute_result"
    }
   ],
   "source": [
    "stas=pd.read_csv(base_dir+'stations.csv', usecols=[1, 2, 3, 4],\n",
    "                    names=['sta', 'lat', 'lon', 'elev'], header=0, delimiter='|')\n",
    "stas"
   ]
  },
  {
   "cell_type": "code",
   "execution_count": 6,
   "id": "5012d6d5-a7a2-419a-925e-1c709a73f5e7",
   "metadata": {},
   "outputs": [
    {
     "data": {
      "text/html": [
       "<div>\n",
       "<style scoped>\n",
       "    .dataframe tbody tr th:only-of-type {\n",
       "        vertical-align: middle;\n",
       "    }\n",
       "\n",
       "    .dataframe tbody tr th {\n",
       "        vertical-align: top;\n",
       "    }\n",
       "\n",
       "    .dataframe thead th {\n",
       "        text-align: right;\n",
       "    }\n",
       "</style>\n",
       "<table border=\"1\" class=\"dataframe\">\n",
       "  <thead>\n",
       "    <tr style=\"text-align: right;\">\n",
       "      <th></th>\n",
       "      <th>sta</th>\n",
       "      <th>lat</th>\n",
       "      <th>lon</th>\n",
       "      <th>elev</th>\n",
       "    </tr>\n",
       "  </thead>\n",
       "  <tbody>\n",
       "    <tr>\n",
       "      <th>0</th>\n",
       "      <td>GLBC</td>\n",
       "      <td>48.3960</td>\n",
       "      <td>-123.6363</td>\n",
       "      <td>100.0</td>\n",
       "    </tr>\n",
       "    <tr>\n",
       "      <th>1</th>\n",
       "      <td>MGCB</td>\n",
       "      <td>48.6317</td>\n",
       "      <td>-123.6808</td>\n",
       "      <td>236.0</td>\n",
       "    </tr>\n",
       "    <tr>\n",
       "      <th>2</th>\n",
       "      <td>SHDB</td>\n",
       "      <td>48.7970</td>\n",
       "      <td>-123.6360</td>\n",
       "      <td>55.0</td>\n",
       "    </tr>\n",
       "    <tr>\n",
       "      <th>3</th>\n",
       "      <td>SHVB</td>\n",
       "      <td>48.4723</td>\n",
       "      <td>-123.6360</td>\n",
       "      <td>69.0</td>\n",
       "    </tr>\n",
       "    <tr>\n",
       "      <th>4</th>\n",
       "      <td>SOKB</td>\n",
       "      <td>48.3947</td>\n",
       "      <td>-123.6731</td>\n",
       "      <td>45.0</td>\n",
       "    </tr>\n",
       "    <tr>\n",
       "      <th>5</th>\n",
       "      <td>KELB</td>\n",
       "      <td>48.6610</td>\n",
       "      <td>-123.5700</td>\n",
       "      <td>53.0</td>\n",
       "    </tr>\n",
       "    <tr>\n",
       "      <th>6</th>\n",
       "      <td>KLNB</td>\n",
       "      <td>48.6611</td>\n",
       "      <td>-123.5706</td>\n",
       "      <td>0.0</td>\n",
       "    </tr>\n",
       "    <tr>\n",
       "      <th>7</th>\n",
       "      <td>TWKB</td>\n",
       "      <td>48.6448</td>\n",
       "      <td>-123.7332</td>\n",
       "      <td>128.0</td>\n",
       "    </tr>\n",
       "  </tbody>\n",
       "</table>\n",
       "</div>"
      ],
      "text/plain": [
       "    sta      lat       lon   elev\n",
       "0  GLBC  48.3960 -123.6363  100.0\n",
       "1  MGCB  48.6317 -123.6808  236.0\n",
       "2  SHDB  48.7970 -123.6360   55.0\n",
       "3  SHVB  48.4723 -123.6360   69.0\n",
       "4  SOKB  48.3947 -123.6731   45.0\n",
       "5  KELB  48.6610 -123.5700   53.0\n",
       "6  KLNB  48.6611 -123.5706    0.0\n",
       "7  TWKB  48.6448 -123.7332  128.0"
      ]
     },
     "execution_count": 6,
     "metadata": {},
     "output_type": "execute_result"
    }
   ],
   "source": [
    "# which stations to model \n",
    "names=['SHDB', 'TWKB', 'KLNB', 'KELB', 'SHVB', 'MGCB', 'SOKB', 'GLBC']\n",
    "# Choose subset of stations\n",
    "stas=stas.query('sta in @names').reset_index(drop=True)\n",
    "stas"
   ]
  },
  {
   "cell_type": "markdown",
   "id": "5eb5d896-31b3-497d-8653-e4aec0c6863b",
   "metadata": {},
   "source": [
    "### Plot Events and Stations\n",
    "\n",
    "Here we plot the map of the data choosen to ge the limits of the grid we will use."
   ]
  },
  {
   "cell_type": "code",
   "execution_count": 7,
   "id": "985fbf94-dcf4-4be4-9a6f-91d6d401188a",
   "metadata": {},
   "outputs": [
    {
     "data": {
      "image/png": "[encoded data removed]",
      "text/plain": [
       "<Figure size 1000x800 with 1 Axes>"
      ]
     },
     "metadata": {},
     "output_type": "display_data"
    }
   ],
   "source": [
    "# Plotting the families and the stations\n",
    "fig = plt.figure(figsize=(10, 8))\n",
    "ax = plt.axes(projection=ccrs.PlateCarree())\n",
    "#plt.scatter(stas_full['lon'], stas_full['lat'], marker='v', color='grey', s=50,label='All Stations')\n",
    "plt.scatter(stas['lon'],stas['lat'],marker='v',s=60,label='Stations')\n",
    "[plt.text(i, j, f'{name}', va='top', ha='left') for (i, j, name) in zip(stas['lon'], stas['lat'], stas['sta'])]\n",
    "if multipleEvents:\n",
    "    plt.scatter(eventLocs['lon'],eventLocs['lat'],marker='o',edgecolors='darkorange',facecolors='orange',label='Event Locations')\n",
    "plt.scatter(event['lon'],event['lat'],marker='*',facecolors='red',label=\"Event to Model\")\n",
    "plt.text(event['lon'],event['lat'],f\"({event['lat']:.3f},{event['lon']:.3f})\")\n",
    "ax.legend(loc='best')\n",
    "ax.coastlines()\n",
    "gl = ax.gridlines(draw_labels=True)\n",
    "plt.title('Southern Vancouver Island Events and \\n Stations for the SW4 project')\n",
    "plt.show()"
   ]
  },
  {
   "cell_type": "code",
   "execution_count": 8,
   "id": "7aee0d43-5a2e-43c0-afbe-d8e6aae8fbde",
   "metadata": {},
   "outputs": [
    {
     "name": "stdout",
     "output_type": "stream",
     "text": [
      "-123.74136 -123.56183999999999 48.19597895 48.82562005\n"
     ]
    }
   ],
   "source": [
    "# These values are roughly the rectangle that encompasses all of our points plus a little buffer\n",
    "Plotlims=ax.get_extent()\n",
    "lonMin_ini, lonMax_ini, latMin_ini, latMax_ini=Plotlims\n",
    "# setup points for box for domain from above with only event and stations\n",
    "x_ini=[Plotlims[0],Plotlims[1],Plotlims[1],Plotlims[0],Plotlims[0]]\n",
    "y_ini=[Plotlims[2],Plotlims[2],Plotlims[3],Plotlims[3],Plotlims[2]]\n",
    "print(lonMin_ini, lonMax_ini, latMin_ini, latMax_ini)"
   ]
  },
  {
   "cell_type": "markdown",
   "id": "e3d22635-5852-4164-a46c-5ee302dac523",
   "metadata": {},
   "source": [
    "Careful when choosing the event and the stations, if they are too close the limits of the plot might be so close that when filtering you don't get a subset at all from the velocity model."
   ]
  },
  {
   "cell_type": "markdown",
   "id": "3260bea6-1460-4c37-8c4a-02492e2a8c31",
   "metadata": {},
   "source": [
    "## 3D Velocity Model\n",
    "\n",
    "!! Loading as it is and **not** using the inteporlated version used for NLLoc, will see to do that later."
   ]
  },
  {
   "cell_type": "code",
   "execution_count": 9,
   "id": "e590d1c6-cf24-4c05-b6dd-b3cadbd77839",
   "metadata": {},
   "outputs": [
    {
     "name": "stdout",
     "output_type": "stream",
     "text": [
      "              lon        lat  depth        vp        vs\n",
      "0     -126.672510  46.951514    0.0  4.956299  2.864755\n",
      "1     -126.675741  47.077409    0.0  4.966347  2.870762\n",
      "2     -126.678979  47.203304    0.0  4.976305  2.876411\n",
      "3     -126.681999  47.320203    0.0  4.968136  2.871618\n",
      "4     -126.685262  47.446098    0.0  4.957817  2.865878\n",
      "...           ...        ...    ...       ...       ...\n",
      "36987 -120.554069  50.494531   93.0  8.245674  4.766323\n",
      "36988 -120.549634  50.620422   93.0  8.249911  4.768947\n",
      "36989 -120.545500  50.737325   93.0  8.257427  4.772954\n",
      "36990 -120.541032  50.863220   93.0  8.261029  4.774880\n",
      "36991 -120.536556  50.989115   93.0  8.264282  4.776913\n",
      "\n",
      "[36992 rows x 5 columns] \n",
      "becomes\n",
      "              lon        lat  depth        vp        vs     vp/vs\n",
      "589   -123.580306  48.300378    0.0  5.241014  3.025520  1.732269\n",
      "590   -123.579785  48.426274    0.0  5.600495  3.247356  1.724632\n",
      "591   -123.579305  48.543172    0.0  5.496210  3.160047  1.739281\n",
      "592   -123.578784  48.669067    0.0  5.439932  3.094670  1.757839\n",
      "593   -123.578296  48.785970    0.0  5.177690  2.995394  1.728551\n",
      "...           ...        ...    ...       ...       ...       ...\n",
      "36425 -123.580306  48.300378   93.0  8.129884  4.699498  1.729947\n",
      "36426 -123.579785  48.426274   93.0  8.147021  4.709235  1.730009\n",
      "36427 -123.579305  48.543172   93.0  8.177955  4.727043  1.730036\n",
      "36428 -123.578784  48.669067   93.0  8.220865  4.751885  1.730022\n",
      "36429 -123.578296  48.785970   93.0  8.264652  4.777200  1.730020\n",
      "\n",
      "[160 rows x 6 columns]\n"
     ]
    },
    {
     "name": "stderr",
     "output_type": "stream",
     "text": [
      "/var/folders/f_/9ygytkln26v3cbhb6ytsqcjc0000gq/T/ipykernel_39493/529848378.py:6: SettingWithCopyWarning: \n",
      "A value is trying to be set on a copy of a slice from a DataFrame.\n",
      "Try using .loc[row_indexer,col_indexer] = value instead\n",
      "\n",
      "See the caveats in the documentation: https://pandas.pydata.org/pandas-docs/stable/user_guide/indexing.html#returning-a-view-versus-a-copy\n",
      "  velmodel_subset['vp/vs'] = velmodel_subset['vp'] / velmodel_subset['vs']\n"
     ]
    }
   ],
   "source": [
    "# Load the model and get a subset\n",
    "velmodel=pd.read_csv(base_dir+'Savard_VpVs.txt', sep='\\s+',header=None, names=['lon', 'lat', 'depth', 'vp', 'vs', 'DWS'])\n",
    "velmodel = velmodel.drop(columns=['DWS'])\n",
    "print(velmodel, '\\nbecomes')\n",
    "velmodel_subset=velmodel[(velmodel['lat']>=latMin_ini)&(velmodel['lat']<=latMax_ini)&(velmodel['lon']<=lonMax_ini)&(velmodel['lon']>=lonMin_ini)]\n",
    "velmodel_subset['vp/vs'] = velmodel_subset['vp'] / velmodel_subset['vs']\n",
    "print(velmodel_subset)"
   ]
  },
  {
   "cell_type": "markdown",
   "id": "2111eb3d-7ec6-4d86-9199-348b68520716",
   "metadata": {},
   "source": [
    "Because we are trying to save memory any place we can, we will take the time to just query the part of the velocity model of interest in hopes that the mimimum Vs in our model space is higher than the absolute minimum Vs in the entire velocity model. We will us the lat and lon limits `_ini` for the inital box before adding the supergrid buffer"
   ]
  },
  {
   "cell_type": "code",
   "execution_count": 10,
   "id": "18541327-e169-43f6-bcf7-0a9b928afbbe",
   "metadata": {},
   "outputs": [
    {
     "data": {
      "text/plain": [
       "16777    0.822258\n",
       "dtype: float64"
      ]
     },
     "execution_count": 10,
     "metadata": {},
     "output_type": "execute_result"
    }
   ],
   "source": [
    "# Assign some values from the velocity model for later\n",
    "# We need Vs min for computing the desired resolution for the domain\n",
    "# We need the max Vp/Vs ratio, becuase the number of points per wavelength you need for good resolution is higher for high Vp/Vs\n",
    "vs_min=velmodel_subset['vs'].min()\n",
    "ind=velmodel_subset.index[velmodel_subset['vp/vs']==velmodel_subset['vp/vs'].max()]\n",
    "Vp_fromvpvs_max=velmodel['vp'][ind]\n",
    "Vs_fromvpvs_max=velmodel['vs'][ind]\n",
    "val=(Vs_fromvpvs_max**2)/(Vp_fromvpvs_max**2-2*Vs_fromvpvs_max**2)\n",
    "depth_max=velmodel['depth'].max()\n",
    "val"
   ]
  },
  {
   "cell_type": "markdown",
   "id": "e388c261-8923-41e4-825d-d15a9465b8ac",
   "metadata": {},
   "source": [
    "If val here was <0.1 then we'd have to worry about needing wayyyyy more points per wavelength (like 40 instead of 6-10), but we are okay here\n",
    "\n",
    "See ref: H.-O. Kreiss and N.A. Petersson. Boundary estimates for the elastic wave equation in almost incompressible materials. SIAM J. Numer. Anal., 50:1556–1580, 2012."
   ]
  },
  {
   "cell_type": "markdown",
   "id": "eae6ed2b-732b-4538-a7f6-e3c2c5c3ee5d",
   "metadata": {},
   "source": [
    "### Plot bounds of Velocity Model with station locations"
   ]
  },
  {
   "cell_type": "code",
   "execution_count": 11,
   "id": "3da27ccd-6df1-49d3-8c7e-d96973cfea3f",
   "metadata": {},
   "outputs": [
    {
     "name": "stdout",
     "output_type": "stream",
     "text": [
      "-124.861165 -123.015812\n",
      "48.057585 49.271562\n"
     ]
    }
   ],
   "source": [
    "# Get bounds of velocity model used for the region (cf other notebooks)\n",
    "latMin, latMax, lonMin, lonMax = 48, 49.3, -124.9, -123\n",
    "velmodel_svi = velmodel[(velmodel['lat']>=latMin)&(velmodel['lat']<=latMax)&(velmodel['lon']<=lonMax)&(velmodel['lon']>=lonMin)]\n",
    "velmodel_svi.sort_values(['lat', 'lon']).reindex()\n",
    "\n",
    "# get lats and lons for our corners of the vmodel\n",
    "lon_llc=velmodel_svi[velmodel_svi['lat']==velmodel_svi['lat'].min()]['lon'].min()\n",
    "lon_lrc=velmodel_svi[velmodel_svi['lat']==velmodel_svi['lat'].min()]['lon'].max()\n",
    "lon_urc=velmodel_svi[velmodel_svi['lat']==velmodel_svi['lat'].max()]['lon'].max()\n",
    "lon_ulc=velmodel_svi[velmodel_svi['lat']==velmodel_svi['lat'].max()]['lon'].min()\n",
    "\n",
    "lat_llc=velmodel_svi['lat'].min()\n",
    "lat_lrc=velmodel_svi['lat'].min()\n",
    "lat_urc=velmodel_svi['lat'].max()\n",
    "lat_ulc=velmodel_svi['lat'].max()\n",
    "\n",
    "# Construct the values to draw a box\n",
    "x_vmod=[lon_llc, lon_lrc, lon_urc, lon_ulc, lon_llc]\n",
    "y_vmod=[lat_llc, lat_lrc, lat_urc, lat_ulc, lat_llc]\n",
    "print(np.min(x_vmod), np.max(x_vmod))\n",
    "print(np.min(y_vmod), np.max(y_vmod))"
   ]
  },
  {
   "cell_type": "code",
   "execution_count": 12,
   "id": "f7c2d8f0-3eeb-4946-bf29-7fa0ff632d06",
   "metadata": {},
   "outputs": [
    {
     "data": {
      "image/png": "[encoded data removed]",
      "text/plain": [
       "<Figure size 800x800 with 1 Axes>"
      ]
     },
     "metadata": {},
     "output_type": "display_data"
    }
   ],
   "source": [
    "# Map of all data + grids\n",
    "fig=plt.figure(figsize=(8,8))\n",
    "ax = plt.axes(projection=ccrs.PlateCarree())\n",
    "plt.scatter(stas['lon'],stas['lat'],marker='v',label='Stations')\n",
    "# Add station labels\n",
    "[plt.text(i, j, f'{sta}',va='top',ha='left') for (i, j,sta) in zip(stas['lon'],stas['lat'],stas['sta'])]\n",
    "if multipleEvents:\n",
    "    plt.scatter(eventLocs['lon'],eventLocs['lat'],marker='o',edgecolors='darkorange',facecolors='orange',label='Event Locations')\n",
    "plt.scatter(event['lon'],event['lat'],marker='*',facecolors='red',label=\"Event to Model\")\n",
    "ax.plot(x_vmod, y_vmod, color='coral',lw=3,label='Velocity Model Box')\n",
    "ax.plot(x_ini, y_ini, color='green',lw=3,label='Station/Event Box')\n",
    "gl = ax.gridlines(draw_labels=True)\n",
    "ax.coastlines()\n",
    "ax.legend(loc='upper right')\n",
    "plt.show()"
   ]
  },
  {
   "cell_type": "markdown",
   "id": "e3e270e6-9c38-4bba-9934-21bf61af888d",
   "metadata": {},
   "source": [
    "## Grid Spacing Math"
   ]
  },
  {
   "cell_type": "code",
   "execution_count": 13,
   "id": "86c3a7ac-d784-4bf0-aa96-65ee305110fb",
   "metadata": {},
   "outputs": [
    {
     "name": "stdout",
     "output_type": "stream",
     "text": [
      "Model grid spacing is 74.88485 m \n"
     ]
    }
   ],
   "source": [
    "# This is the relationship from the sw4 manual section 4.5, p 28\n",
    "# npts should be between 6 and 10\n",
    "\n",
    "def get_step_size(frequency_max, npts, Vs_min):\n",
    "    H=Vs_min*1000/(npts*frequency_max)\n",
    "    return H\n",
    "    \n",
    "step_size=get_step_size(freqMax, 10, vs_min)\n",
    "print(f\"Model grid spacing is {step_size} m \")"
   ]
  },
  {
   "cell_type": "markdown",
   "id": "5d264b79-8585-4ece-acbe-44bd414fadb1",
   "metadata": {},
   "source": [
    "Based on the grid spacing, we can now compute the thickeness of the supergrid layer. The supergrid layers are SUPER important because they help damp reflections on the edges of the domain and dramatically decreases the size of the domain you need and decreases computational time. The supergrid points are PART of your model domain. Default number of supergrid points is 30, less than 20 points will make your solution numerically unstable. Long wavelengths are harder to supress than short wavelengths"
   ]
  },
  {
   "cell_type": "code",
   "execution_count": 14,
   "id": "1b4e5583-b0f3-4a53-bda8-a2ce9945fa44",
   "metadata": {},
   "outputs": [
    {
     "name": "stdout",
     "output_type": "stream",
     "text": [
      "Do not put event sources or receivers in the outer 2246.5455 m of the domain \n",
      "or a buffer of ~0.0202 degrees\n"
     ]
    }
   ],
   "source": [
    "npts_supergrid=30\n",
    "supergrid_thickness=step_size*npts_supergrid\n",
    "supergrid_thickness_deg=np.round(kilometer2degrees(supergrid_thickness/1000),4)\n",
    "print(f\"Do not put event sources or receivers in the outer {supergrid_thickness} m of the domain \\nor a buffer of ~{supergrid_thickness_deg} degrees\")"
   ]
  },
  {
   "cell_type": "markdown",
   "id": "b76e53dd-faa9-4920-9814-8110a452068c",
   "metadata": {},
   "source": [
    "We care going to add the width of the supergrid as a buffer around our domain"
   ]
  },
  {
   "cell_type": "code",
   "execution_count": 15,
   "id": "9015a9de-2b6f-4232-8ea6-d727b5bc65f4",
   "metadata": {},
   "outputs": [],
   "source": [
    "lonMin=lonMin_ini-supergrid_thickness_deg\n",
    "lonMax=lonMax_ini+supergrid_thickness_deg\n",
    "latMin=latMin_ini-supergrid_thickness_deg\n",
    "latMax=latMax_ini+supergrid_thickness_deg\n",
    "\n",
    "# setup points for box for domain including supergrid buffer\n",
    "x=[lonMin,lonMax,lonMax,lonMin,lonMin]\n",
    "y=[latMin,latMin,latMax,latMax,latMin]"
   ]
  },
  {
   "cell_type": "code",
   "execution_count": 16,
   "id": "9581606e-0c35-467c-b2df-0f753e1f2073",
   "metadata": {},
   "outputs": [
    {
     "name": "stdout",
     "output_type": "stream",
     "text": [
      "48.84582005\n"
     ]
    }
   ],
   "source": [
    "print(latMax)"
   ]
  },
  {
   "cell_type": "markdown",
   "id": "e6ecf274-071b-4318-899e-bd692b448a7c",
   "metadata": {},
   "source": [
    "## Some topography calculations"
   ]
  },
  {
   "cell_type": "markdown",
   "id": "8744c4cc-3cf2-4656-a1a9-a8a75a222605",
   "metadata": {},
   "source": [
    "First let's draw a box that is slightly bigger than our x,y domain once we've included the supergrid buffer"
   ]
  },
  {
   "cell_type": "code",
   "execution_count": 17,
   "id": "924be7a6-feb1-42b0-8f52-a186a4bad1d8",
   "metadata": {},
   "outputs": [],
   "source": [
    "# setup points for box for domain for elevation if we do adding the buffer from the elevation_snippet script\n",
    "buffer=0.05\n",
    "lonMin_topo=lonMin-buffer\n",
    "lonMax_topo=lonMax+buffer\n",
    "latMin_topo=latMin-buffer\n",
    "latMax_topo=latMax+buffer\n",
    "\n",
    "# setup points for box for topo domain\n",
    "x_topo=[lonMin_topo,lonMax_topo,lonMax_topo,lonMin_topo,lonMin_topo]\n",
    "y_topo=[latMin_topo,latMin_topo,latMax_topo,latMax_topo,latMin_topo]"
   ]
  },
  {
   "cell_type": "markdown",
   "id": "b1512f38-8ea0-4afe-a1ed-4718fa5bf46f",
   "metadata": {},
   "source": [
    "We need to find the minimum and maximum elevations in our topography to calculate zmax"
   ]
  },
  {
   "cell_type": "code",
   "execution_count": 18,
   "id": "1a0a878b-9828-4fc2-9764-e5fb2223613c",
   "metadata": {},
   "outputs": [
    {
     "data": {
      "text/html": [
       "<div><svg style=\"position: absolute; width: 0; height: 0; overflow: hidden\">\n",
       "<defs>\n",
       "<symbol id=\"icon-database\" viewBox=\"0 0 32 32\">\n",
       "<path d=\"M16 0c-8.837 0-16 2.239-16 5v4c0 2.761 7.163 5 16 5s16-2.239 16-5v-4c0-2.761-7.163-5-16-5z\"></path>\n",
       "<path d=\"M16 17c-8.837 0-16-2.239-16-5v6c0 2.761 7.163 5 16 5s16-2.239 16-5v-6c0 2.761-7.163 5-16 5z\"></path>\n",
       "<path d=\"M16 26c-8.837 0-16-2.239-16-5v6c0 2.761 7.163 5 16 5s16-2.239 16-5v-6c0 2.761-7.163 5-16 5z\"></path>\n",
       "</symbol>\n",
       "<symbol id=\"icon-file-text2\" viewBox=\"0 0 32 32\">\n",
       "<path d=\"M28.681 7.159c-0.694-0.947-1.662-2.053-2.724-3.116s-2.169-2.030-3.116-2.724c-1.612-1.182-2.393-1.319-2.841-1.319h-15.5c-1.378 0-2.5 1.121-2.5 2.5v27c0 1.378 1.122 2.5 2.5 2.5h23c1.378 0 2.5-1.122 2.5-2.5v-19.5c0-0.448-0.137-1.23-1.319-2.841zM24.543 5.457c0.959 0.959 1.712 1.825 2.268 2.543h-4.811v-4.811c0.718 0.556 1.584 1.309 2.543 2.268zM28 29.5c0 0.271-0.229 0.5-0.5 0.5h-23c-0.271 0-0.5-0.229-0.5-0.5v-27c0-0.271 0.229-0.5 0.5-0.5 0 0 15.499-0 15.5 0v7c0 0.552 0.448 1 1 1h7v19.5z\"></path>\n",
       "<path d=\"M23 26h-14c-0.552 0-1-0.448-1-1s0.448-1 1-1h14c0.552 0 1 0.448 1 1s-0.448 1-1 1z\"></path>\n",
       "<path d=\"M23 22h-14c-0.552 0-1-0.448-1-1s0.448-1 1-1h14c0.552 0 1 0.448 1 1s-0.448 1-1 1z\"></path>\n",
       "<path d=\"M23 18h-14c-0.552 0-1-0.448-1-1s0.448-1 1-1h14c0.552 0 1 0.448 1 1s-0.448 1-1 1z\"></path>\n",
       "</symbol>\n",
       "</defs>\n",
       "</svg>\n",
       "<style>/* CSS stylesheet for displaying xarray objects in jupyterlab.\n",
       " *\n",
       " */\n",
       "\n",
       ":root {\n",
       "  --xr-font-color0: var(--jp-content-font-color0, rgba(0, 0, 0, 1));\n",
       "  --xr-font-color2: var(--jp-content-font-color2, rgba(0, 0, 0, 0.54));\n",
       "  --xr-font-color3: var(--jp-content-font-color3, rgba(0, 0, 0, 0.38));\n",
       "  --xr-border-color: var(--jp-border-color2, #e0e0e0);\n",
       "  --xr-disabled-color: var(--jp-layout-color3, #bdbdbd);\n",
       "  --xr-background-color: var(--jp-layout-color0, white);\n",
       "  --xr-background-color-row-even: var(--jp-layout-color1, white);\n",
       "  --xr-background-color-row-odd: var(--jp-layout-color2, #eeeeee);\n",
       "}\n",
       "\n",
       "html[theme=dark],\n",
       "body[data-theme=dark],\n",
       "body.vscode-dark {\n",
       "  --xr-font-color0: rgba(255, 255, 255, 1);\n",
       "  --xr-font-color2: rgba(255, 255, 255, 0.54);\n",
       "  --xr-font-color3: rgba(255, 255, 255, 0.38);\n",
       "  --xr-border-color: #1F1F1F;\n",
       "  --xr-disabled-color: #515151;\n",
       "  --xr-background-color: #111111;\n",
       "  --xr-background-color-row-even: #111111;\n",
       "  --xr-background-color-row-odd: #313131;\n",
       "}\n",
       "\n",
       ".xr-wrap {\n",
       "  display: block !important;\n",
       "  min-width: 300px;\n",
       "  max-width: 700px;\n",
       "}\n",
       "\n",
       ".xr-text-repr-fallback {\n",
       "  /* fallback to plain text repr when CSS is not injected (untrusted notebook) */\n",
       "  display: none;\n",
       "}\n",
       "\n",
       ".xr-header {\n",
       "  padding-top: 6px;\n",
       "  padding-bottom: 6px;\n",
       "  margin-bottom: 4px;\n",
       "  border-bottom: solid 1px var(--xr-border-color);\n",
       "}\n",
       "\n",
       ".xr-header > div,\n",
       ".xr-header > ul {\n",
       "  display: inline;\n",
       "  margin-top: 0;\n",
       "  margin-bottom: 0;\n",
       "}\n",
       "\n",
       ".xr-obj-type,\n",
       ".xr-array-name {\n",
       "  margin-left: 2px;\n",
       "  margin-right: 10px;\n",
       "}\n",
       "\n",
       ".xr-obj-type {\n",
       "  color: var(--xr-font-color2);\n",
       "}\n",
       "\n",
       ".xr-sections {\n",
       "  padding-left: 0 !important;\n",
       "  display: grid;\n",
       "  grid-template-columns: 150px auto auto 1fr 20px 20px;\n",
       "}\n",
       "\n",
       ".xr-section-item {\n",
       "  display: contents;\n",
       "}\n",
       "\n",
       ".xr-section-item input {\n",
       "  display: none;\n",
       "}\n",
       "\n",
       ".xr-section-item input + label {\n",
       "  color: var(--xr-disabled-color);\n",
       "}\n",
       "\n",
       ".xr-section-item input:enabled + label {\n",
       "  cursor: pointer;\n",
       "  color: var(--xr-font-color2);\n",
       "}\n",
       "\n",
       ".xr-section-item input:enabled + label:hover {\n",
       "  color: var(--xr-font-color0);\n",
       "}\n",
       "\n",
       ".xr-section-summary {\n",
       "  grid-column: 1;\n",
       "  color: var(--xr-font-color2);\n",
       "  font-weight: 500;\n",
       "}\n",
       "\n",
       ".xr-section-summary > span {\n",
       "  display: inline-block;\n",
       "  padding-left: 0.5em;\n",
       "}\n",
       "\n",
       ".xr-section-summary-in:disabled + label {\n",
       "  color: var(--xr-font-color2);\n",
       "}\n",
       "\n",
       ".xr-section-summary-in + label:before {\n",
       "  display: inline-block;\n",
       "  content: '►';\n",
       "  font-size: 11px;\n",
       "  width: 15px;\n",
       "  text-align: center;\n",
       "}\n",
       "\n",
       ".xr-section-summary-in:disabled + label:before {\n",
       "  color: var(--xr-disabled-color);\n",
       "}\n",
       "\n",
       ".xr-section-summary-in:checked + label:before {\n",
       "  content: '▼';\n",
       "}\n",
       "\n",
       ".xr-section-summary-in:checked + label > span {\n",
       "  display: none;\n",
       "}\n",
       "\n",
       ".xr-section-summary,\n",
       ".xr-section-inline-details {\n",
       "  padding-top: 4px;\n",
       "  padding-bottom: 4px;\n",
       "}\n",
       "\n",
       ".xr-section-inline-details {\n",
       "  grid-column: 2 / -1;\n",
       "}\n",
       "\n",
       ".xr-section-details {\n",
       "  display: none;\n",
       "  grid-column: 1 / -1;\n",
       "  margin-bottom: 5px;\n",
       "}\n",
       "\n",
       ".xr-section-summary-in:checked ~ .xr-section-details {\n",
       "  display: contents;\n",
       "}\n",
       "\n",
       ".xr-array-wrap {\n",
       "  grid-column: 1 / -1;\n",
       "  display: grid;\n",
       "  grid-template-columns: 20px auto;\n",
       "}\n",
       "\n",
       ".xr-array-wrap > label {\n",
       "  grid-column: 1;\n",
       "  vertical-align: top;\n",
       "}\n",
       "\n",
       ".xr-preview {\n",
       "  color: var(--xr-font-color3);\n",
       "}\n",
       "\n",
       ".xr-array-preview,\n",
       ".xr-array-data {\n",
       "  padding: 0 5px !important;\n",
       "  grid-column: 2;\n",
       "}\n",
       "\n",
       ".xr-array-data,\n",
       ".xr-array-in:checked ~ .xr-array-preview {\n",
       "  display: none;\n",
       "}\n",
       "\n",
       ".xr-array-in:checked ~ .xr-array-data,\n",
       ".xr-array-preview {\n",
       "  display: inline-block;\n",
       "}\n",
       "\n",
       ".xr-dim-list {\n",
       "  display: inline-block !important;\n",
       "  list-style: none;\n",
       "  padding: 0 !important;\n",
       "  margin: 0;\n",
       "}\n",
       "\n",
       ".xr-dim-list li {\n",
       "  display: inline-block;\n",
       "  padding: 0;\n",
       "  margin: 0;\n",
       "}\n",
       "\n",
       ".xr-dim-list:before {\n",
       "  content: '(';\n",
       "}\n",
       "\n",
       ".xr-dim-list:after {\n",
       "  content: ')';\n",
       "}\n",
       "\n",
       ".xr-dim-list li:not(:last-child):after {\n",
       "  content: ',';\n",
       "  padding-right: 5px;\n",
       "}\n",
       "\n",
       ".xr-has-index {\n",
       "  font-weight: bold;\n",
       "}\n",
       "\n",
       ".xr-var-list,\n",
       ".xr-var-item {\n",
       "  display: contents;\n",
       "}\n",
       "\n",
       ".xr-var-item > div,\n",
       ".xr-var-item label,\n",
       ".xr-var-item > .xr-var-name span {\n",
       "  background-color: var(--xr-background-color-row-even);\n",
       "  margin-bottom: 0;\n",
       "}\n",
       "\n",
       ".xr-var-item > .xr-var-name:hover span {\n",
       "  padding-right: 5px;\n",
       "}\n",
       "\n",
       ".xr-var-list > li:nth-child(odd) > div,\n",
       ".xr-var-list > li:nth-child(odd) > label,\n",
       ".xr-var-list > li:nth-child(odd) > .xr-var-name span {\n",
       "  background-color: var(--xr-background-color-row-odd);\n",
       "}\n",
       "\n",
       ".xr-var-name {\n",
       "  grid-column: 1;\n",
       "}\n",
       "\n",
       ".xr-var-dims {\n",
       "  grid-column: 2;\n",
       "}\n",
       "\n",
       ".xr-var-dtype {\n",
       "  grid-column: 3;\n",
       "  text-align: right;\n",
       "  color: var(--xr-font-color2);\n",
       "}\n",
       "\n",
       ".xr-var-preview {\n",
       "  grid-column: 4;\n",
       "}\n",
       "\n",
       ".xr-index-preview {\n",
       "  grid-column: 2 / 5;\n",
       "  color: var(--xr-font-color2);\n",
       "}\n",
       "\n",
       ".xr-var-name,\n",
       ".xr-var-dims,\n",
       ".xr-var-dtype,\n",
       ".xr-preview,\n",
       ".xr-attrs dt {\n",
       "  white-space: nowrap;\n",
       "  overflow: hidden;\n",
       "  text-overflow: ellipsis;\n",
       "  padding-right: 10px;\n",
       "}\n",
       "\n",
       ".xr-var-name:hover,\n",
       ".xr-var-dims:hover,\n",
       ".xr-var-dtype:hover,\n",
       ".xr-attrs dt:hover {\n",
       "  overflow: visible;\n",
       "  width: auto;\n",
       "  z-index: 1;\n",
       "}\n",
       "\n",
       ".xr-var-attrs,\n",
       ".xr-var-data,\n",
       ".xr-index-data {\n",
       "  display: none;\n",
       "  background-color: var(--xr-background-color) !important;\n",
       "  padding-bottom: 5px !important;\n",
       "}\n",
       "\n",
       ".xr-var-attrs-in:checked ~ .xr-var-attrs,\n",
       ".xr-var-data-in:checked ~ .xr-var-data,\n",
       ".xr-index-data-in:checked ~ .xr-index-data {\n",
       "  display: block;\n",
       "}\n",
       "\n",
       ".xr-var-data > table {\n",
       "  float: right;\n",
       "}\n",
       "\n",
       ".xr-var-name span,\n",
       ".xr-var-data,\n",
       ".xr-index-name div,\n",
       ".xr-index-data,\n",
       ".xr-attrs {\n",
       "  padding-left: 25px !important;\n",
       "}\n",
       "\n",
       ".xr-attrs,\n",
       ".xr-var-attrs,\n",
       ".xr-var-data,\n",
       ".xr-index-data {\n",
       "  grid-column: 1 / -1;\n",
       "}\n",
       "\n",
       "dl.xr-attrs {\n",
       "  padding: 0;\n",
       "  margin: 0;\n",
       "  display: grid;\n",
       "  grid-template-columns: 125px auto;\n",
       "}\n",
       "\n",
       ".xr-attrs dt,\n",
       ".xr-attrs dd {\n",
       "  padding: 0;\n",
       "  margin: 0;\n",
       "  float: left;\n",
       "  padding-right: 10px;\n",
       "  width: auto;\n",
       "}\n",
       "\n",
       ".xr-attrs dt {\n",
       "  font-weight: normal;\n",
       "  grid-column: 1;\n",
       "}\n",
       "\n",
       ".xr-attrs dt:hover span {\n",
       "  display: inline-block;\n",
       "  background: var(--xr-background-color);\n",
       "  padding-right: 10px;\n",
       "}\n",
       "\n",
       ".xr-attrs dd {\n",
       "  grid-column: 2;\n",
       "  white-space: pre-wrap;\n",
       "  word-break: break-all;\n",
       "}\n",
       "\n",
       ".xr-icon-database,\n",
       ".xr-icon-file-text2,\n",
       ".xr-no-icon {\n",
       "  display: inline-block;\n",
       "  vertical-align: middle;\n",
       "  width: 1em;\n",
       "  height: 1.5em !important;\n",
       "  stroke-width: 0;\n",
       "  stroke: currentColor;\n",
       "  fill: currentColor;\n",
       "}\n",
       "</style><pre class='xr-text-repr-fallback'>&lt;xarray.Dataset&gt; Size: 8MB\n",
       "Dimensions:    (lon: 1671, lat: 1136)\n",
       "Coordinates:\n",
       "  * lon        (lon) float64 13kB -124.3 -124.3 -124.3 ... -122.9 -122.9 -122.9\n",
       "  * lat        (lat) float64 9kB 47.98 47.98 47.98 47.98 ... 48.92 48.92 48.92\n",
       "Data variables:\n",
       "    elevation  (lat, lon) float32 8MB ...</pre><div class='xr-wrap' style='display:none'><div class='xr-header'><div class='xr-obj-type'>xarray.Dataset</div></div><ul class='xr-sections'><li class='xr-section-item'><input id='section-d6cbc0f2-63e8-4c5a-a166-f2636f237396' class='xr-section-summary-in' type='checkbox' disabled ><label for='section-d6cbc0f2-63e8-4c5a-a166-f2636f237396' class='xr-section-summary'  title='Expand/collapse section'>Dimensions:</label><div class='xr-section-inline-details'><ul class='xr-dim-list'><li><span class='xr-has-index'>lon</span>: 1671</li><li><span class='xr-has-index'>lat</span>: 1136</li></ul></div><div class='xr-section-details'></div></li><li class='xr-section-item'><input id='section-fff07382-034f-45cb-9109-acb022bbb7da' class='xr-section-summary-in' type='checkbox'  checked><label for='section-fff07382-034f-45cb-9109-acb022bbb7da' class='xr-section-summary' >Coordinates: <span>(2)</span></label><div class='xr-section-inline-details'></div><div class='xr-section-details'><ul class='xr-var-list'><li class='xr-var-item'><div class='xr-var-name'><span class='xr-has-index'>lon</span></div><div class='xr-var-dims'>(lon)</div><div class='xr-var-dtype'>float64</div><div class='xr-var-preview xr-preview'>-124.3 -124.3 ... -122.9 -122.9</div><input id='attrs-520c1273-b298-4407-9bbd-c7b36ec7a50f' class='xr-var-attrs-in' type='checkbox' ><label for='attrs-520c1273-b298-4407-9bbd-c7b36ec7a50f' title='Show/Hide attributes'><svg class='icon xr-icon-file-text2'><use xlink:href='#icon-file-text2'></use></svg></label><input id='data-c5439445-4694-4a24-bc45-34ecd071576a' class='xr-var-data-in' type='checkbox'><label for='data-c5439445-4694-4a24-bc45-34ecd071576a' title='Show/Hide data repr'><svg class='icon xr-icon-database'><use xlink:href='#icon-database'></use></svg></label><div class='xr-var-attrs'><dl class='xr-attrs'><dt><span>long_name :</span></dt><dd>longitude</dd><dt><span>units :</span></dt><dd>degrees_east</dd><dt><span>standard_name :</span></dt><dd>longitude</dd><dt><span>axis :</span></dt><dd>X</dd></dl></div><div class='xr-var-data'><pre>array([-124.270833, -124.27    , -124.269167, ..., -122.880833, -122.88    ,\n",
       "       -122.879167])</pre></div></li><li class='xr-var-item'><div class='xr-var-name'><span class='xr-has-index'>lat</span></div><div class='xr-var-dims'>(lat)</div><div class='xr-var-dtype'>float64</div><div class='xr-var-preview xr-preview'>47.98 47.98 47.98 ... 48.92 48.92</div><input id='attrs-d0e32213-0cdb-4d30-847a-6d0d13749ba0' class='xr-var-attrs-in' type='checkbox' ><label for='attrs-d0e32213-0cdb-4d30-847a-6d0d13749ba0' title='Show/Hide attributes'><svg class='icon xr-icon-file-text2'><use xlink:href='#icon-file-text2'></use></svg></label><input id='data-d462260d-09ed-461e-88a0-005cdf12ae95' class='xr-var-data-in' type='checkbox'><label for='data-d462260d-09ed-461e-88a0-005cdf12ae95' title='Show/Hide data repr'><svg class='icon xr-icon-database'><use xlink:href='#icon-database'></use></svg></label><div class='xr-var-attrs'><dl class='xr-attrs'><dt><span>long_name :</span></dt><dd>latitude</dd><dt><span>units :</span></dt><dd>degrees_north</dd><dt><span>standard_name :</span></dt><dd>latitude</dd><dt><span>axis :</span></dt><dd>Y</dd></dl></div><div class='xr-var-data'><pre>array([47.979167, 47.98    , 47.980833, ..., 48.923333, 48.924167, 48.925   ])</pre></div></li></ul></div></li><li class='xr-section-item'><input id='section-22ac309d-c1c7-465c-afb2-701c16252569' class='xr-section-summary-in' type='checkbox'  checked><label for='section-22ac309d-c1c7-465c-afb2-701c16252569' class='xr-section-summary' >Data variables: <span>(1)</span></label><div class='xr-section-inline-details'></div><div class='xr-section-details'><ul class='xr-var-list'><li class='xr-var-item'><div class='xr-var-name'><span>elevation</span></div><div class='xr-var-dims'>(lat, lon)</div><div class='xr-var-dtype'>float32</div><div class='xr-var-preview xr-preview'>...</div><input id='attrs-271c7842-6164-48fc-b2e9-0ff37ad8d162' class='xr-var-attrs-in' type='checkbox' ><label for='attrs-271c7842-6164-48fc-b2e9-0ff37ad8d162' title='Show/Hide attributes'><svg class='icon xr-icon-file-text2'><use xlink:href='#icon-file-text2'></use></svg></label><input id='data-c47b753b-960b-471f-82f4-1f2be3680fdc' class='xr-var-data-in' type='checkbox'><label for='data-c47b753b-960b-471f-82f4-1f2be3680fdc' title='Show/Hide data repr'><svg class='icon xr-icon-database'><use xlink:href='#icon-database'></use></svg></label><div class='xr-var-attrs'><dl class='xr-attrs'><dt><span>long_name :</span></dt><dd>Earth elevation relative to the geoid</dd><dt><span>cpt :</span></dt><dd>geo</dd><dt><span>units :</span></dt><dd>meters</dd><dt><span>vertical_datum :</span></dt><dd>EGM96</dd><dt><span>horizontal_datum :</span></dt><dd>WGS84</dd></dl></div><div class='xr-var-data'><pre>[1898256 values with dtype=float32]</pre></div></li></ul></div></li><li class='xr-section-item'><input id='section-ab7c35f6-28fa-470c-bb27-b778cc3ba47e' class='xr-section-summary-in' type='checkbox'  ><label for='section-ab7c35f6-28fa-470c-bb27-b778cc3ba47e' class='xr-section-summary' >Indexes: <span>(2)</span></label><div class='xr-section-inline-details'></div><div class='xr-section-details'><ul class='xr-var-list'><li class='xr-var-item'><div class='xr-index-name'><div>lon</div></div><div class='xr-index-preview'>PandasIndex</div><div></div><input id='index-dea5694b-51b6-42df-9a77-4d35b2cfd27d' class='xr-index-data-in' type='checkbox'/><label for='index-dea5694b-51b6-42df-9a77-4d35b2cfd27d' title='Show/Hide index repr'><svg class='icon xr-icon-database'><use xlink:href='#icon-database'></use></svg></label><div class='xr-index-data'><pre>PandasIndex(Index([ -124.2708333333333, -124.26999999999997, -124.26916666666664,\n",
       "        -124.2683333333333, -124.26749999999997, -124.26666666666664,\n",
       "        -124.2658333333333, -124.26499999999997, -124.26416666666664,\n",
       "        -124.2633333333333,\n",
       "       ...\n",
       "        -122.8866666666667, -122.88583333333337, -122.88500000000003,\n",
       "        -122.8841666666667, -122.88333333333337, -122.88250000000004,\n",
       "        -122.8816666666667, -122.88083333333337, -122.88000000000004,\n",
       "        -122.8791666666667],\n",
       "      dtype=&#x27;float64&#x27;, name=&#x27;lon&#x27;, length=1671))</pre></div></li><li class='xr-var-item'><div class='xr-index-name'><div>lat</div></div><div class='xr-index-preview'>PandasIndex</div><div></div><input id='index-32b9ce53-ff27-474b-9d8c-72ae8f2fd7e9' class='xr-index-data-in' type='checkbox'/><label for='index-32b9ce53-ff27-474b-9d8c-72ae8f2fd7e9' title='Show/Hide index repr'><svg class='icon xr-icon-database'><use xlink:href='#icon-database'></use></svg></label><div class='xr-index-data'><pre>PandasIndex(Index([ 47.97916666666666,  47.97999999999999,  47.98083333333332,\n",
       "       47.981666666666655,  47.98249999999999,  47.98333333333333,\n",
       "        47.98416666666666,  47.98499999999999, 47.985833333333325,\n",
       "        47.98666666666666,\n",
       "       ...\n",
       "                  48.9175,  48.91833333333333,  48.91916666666666,\n",
       "       48.919999999999995,  48.92083333333333,  48.92166666666667,\n",
       "                  48.9225,  48.92333333333333, 48.924166666666665,\n",
       "                   48.925],\n",
       "      dtype=&#x27;float64&#x27;, name=&#x27;lat&#x27;, length=1136))</pre></div></li></ul></div></li><li class='xr-section-item'><input id='section-10efb55b-bf6f-4a29-995e-1f40bd99312c' class='xr-section-summary-in' type='checkbox' disabled ><label for='section-10efb55b-bf6f-4a29-995e-1f40bd99312c' class='xr-section-summary'  title='Expand/collapse section'>Attributes: <span>(0)</span></label><div class='xr-section-inline-details'></div><div class='xr-section-details'><dl class='xr-attrs'></dl></div></li></ul></div></div>"
      ],
      "text/plain": [
       "<xarray.Dataset> Size: 8MB\n",
       "Dimensions:    (lon: 1671, lat: 1136)\n",
       "Coordinates:\n",
       "  * lon        (lon) float64 13kB -124.3 -124.3 -124.3 ... -122.9 -122.9 -122.9\n",
       "  * lat        (lat) float64 9kB 47.98 47.98 47.98 47.98 ... 48.92 48.92 48.92\n",
       "Data variables:\n",
       "    elevation  (lat, lon) float32 8MB ..."
      ]
     },
     "execution_count": 18,
     "metadata": {},
     "output_type": "execute_result"
    }
   ],
   "source": [
    "# read topo from netcdf\n",
    "file2load_topo='VCI_topo_03s.nc'\n",
    "grid_big = xr.open_dataset(file2load_topo)\n",
    "grid_big"
   ]
  },
  {
   "cell_type": "code",
   "execution_count": 19,
   "id": "3cfc0a70-1fed-43f4-8a58-85b82fc63a57",
   "metadata": {},
   "outputs": [
    {
     "data": {
      "text/plain": [
       "(924, 384)"
      ]
     },
     "execution_count": 19,
     "metadata": {},
     "output_type": "execute_result"
    }
   ],
   "source": [
    "grid=grid_big.loc[dict(lat=slice(latMin_topo, latMax_topo),lon=slice(lonMin_topo, lonMax_topo))]\n",
    "grid['elevation'].data.shape"
   ]
  },
  {
   "cell_type": "code",
   "execution_count": 20,
   "id": "bde039a0-197b-48e1-8dc7-c21d869319fa",
   "metadata": {},
   "outputs": [
    {
     "name": "stdout",
     "output_type": "stream",
     "text": [
      "Minimum elevation is -691.0126342773438 m and the maximum elevation is 942.0 m\n"
     ]
    }
   ],
   "source": [
    "df_grid = grid.to_dataframe().reset_index().sort_values(['lat', 'lon'])\n",
    "# df_grid_small=df_grid[(df_grid['lat']<=lat_max+buffer)&(df_grid['lat']>=lat_min-buffer)&(df_grid['lon']<=lon_max+buffer)&(df_grid['lon']>=lon_min-buffer)].reset_index().sort_values(['lat', 'lon'])\n",
    "elev_max=df_grid['elevation'].max()\n",
    "elev_min=df_grid['elevation'].min()\n",
    "lontopo_max=df_grid['lon'].max()\n",
    "lontopo_min=df_grid['lon'].min()\n",
    "lattopo_max=df_grid['lat'].max()\n",
    "lattopo_min=df_grid['lat'].min()\n",
    "print(f\"Minimum elevation is {elev_min} m and the maximum elevation is {elev_max} m\")"
   ]
  },
  {
   "cell_type": "markdown",
   "id": "b42fb96f-8ebe-4bdc-b411-fb0c0dafaf34",
   "metadata": {},
   "source": [
    "Equation for what to set z_max in the topography command:\n",
    "egrid ≤ emin − 3(emax − emin), emin ≤ e(x, y) ≤ emax"
   ]
  },
  {
   "cell_type": "code",
   "execution_count": 21,
   "id": "9da27cb7-ef65-43be-b023-f923b88b8e16",
   "metadata": {},
   "outputs": [
    {
     "data": {
      "text/plain": [
       "5590.050720214844"
      ]
     },
     "execution_count": 21,
     "metadata": {},
     "output_type": "execute_result"
    }
   ],
   "source": [
    "def calc_topo_zmax(emin,emax):\n",
    "    egrid=emin-3*(emax-emin)\n",
    "    zmax=-egrid\n",
    "    return zmax\n",
    "z_max=calc_topo_zmax(elev_min,elev_max)\n",
    "z_max"
   ]
  },
  {
   "cell_type": "markdown",
   "id": "f9cf2287-3f7e-43a6-921d-922c55cb7644",
   "metadata": {},
   "source": [
    "## Revisit Velocity Model"
   ]
  },
  {
   "cell_type": "markdown",
   "id": "4bb9432f-cc57-4bc0-80d9-bd6505d9ec5a",
   "metadata": {},
   "source": [
    "We are going to trim the velocity model to be 0.01 degrees bigger than topography model. This is to allow for the fact that sometimes we end up with a little bigger topography model than we call because of how pygmt pulls it's data."
   ]
  },
  {
   "cell_type": "code",
   "execution_count": 22,
   "id": "ffbe0fdc-9ef3-49fa-a080-29691bd19fc1",
   "metadata": {},
   "outputs": [],
   "source": [
    "velocity_buffer=0.01\n",
    "lonMin_vmod_trim=lonMin_topo-velocity_buffer\n",
    "lonMax_vmod_trim=lonMax_topo+velocity_buffer\n",
    "latMin_vmod_trim=latMin_topo-velocity_buffer\n",
    "latMax_vmod_trim=latMax_topo+velocity_buffer\n",
    "\n",
    "# setup points for box for topo domain\n",
    "x_vmod_trim=[lonMin_vmod_trim,lonMax_vmod_trim,lonMax_vmod_trim,lonMin_vmod_trim,lonMin_vmod_trim]\n",
    "y_vmod_trim=[latMin_vmod_trim,latMin_vmod_trim,latMax_vmod_trim,latMax_vmod_trim,latMin_vmod_trim]"
   ]
  },
  {
   "cell_type": "markdown",
   "id": "c17570c9-b7a9-48b4-91ef-4a512b49a509",
   "metadata": {},
   "source": [
    "### Add topography to our plot"
   ]
  },
  {
   "cell_type": "code",
   "execution_count": 23,
   "id": "29f6a7e1-81bd-4f7a-b65b-61a52a2ef11e",
   "metadata": {},
   "outputs": [
    {
     "data": {
      "image/png": "[encoded data removed]",
      "text/plain": [
       "<Figure size 1000x800 with 2 Axes>"
      ]
     },
     "metadata": {},
     "output_type": "display_data"
    }
   ],
   "source": [
    "fig=plt.figure(figsize=(10,8))\n",
    "ax = plt.axes(projection=ccrs.PlateCarree())\n",
    "plt.contourf(grid.lon, grid.lat,grid.elevation,100)\n",
    "plt.colorbar()\n",
    "plt.scatter(stas['lon'],stas['lat'],marker='v',facecolors='white',label='Stations')\n",
    "# Add station labels\n",
    "# [plt.text(i, j, f'{sta}',va='top',ha='left') for (i, j,sta) in zip(stas['lon'],stas['lat'],stas['sta'])]\n",
    "if multipleEvents:\n",
    "    plt.scatter(eventLocs['lon'],eventLocs['lat'],marker='o',edgecolors='darkorange',facecolors='orange',label='Event Locations')\n",
    "plt.scatter(event['lon'],event['lat'],marker='*',facecolors='red',label=\"Event to Model\")\n",
    "ax.plot(x_vmod_trim, y_vmod_trim, color='coral',lw=3,label='Trimmed Velocity Model Box')\n",
    "ax.plot(x_ini, y_ini, color='green',lw=1,label='Station/Event Box')\n",
    "ax.plot(x_topo, y_topo, color='skyblue',lw=3,label='Topo Box')\n",
    "ax.plot(x, y, color='darkgreen',lw=3,label='Supergrid Box')\n",
    "gl = ax.gridlines(draw_labels=True)\n",
    "gl.right_labels = False\n",
    "ax.coastlines()\n",
    "ax.legend(loc='center', bbox_to_anchor=(0.5, 1.1), ncol=2)\n",
    "plt.show()\n",
    "fig.savefig(f\"supermap.png\", dpi=300, bbox_inches=\"tight\")"
   ]
  },
  {
   "cell_type": "markdown",
   "id": "7426fe16-ac09-4342-894d-9207cbc2fcaa",
   "metadata": {},
   "source": [
    "## Aggregate Info for .in Files"
   ]
  },
  {
   "cell_type": "code",
   "execution_count": 24,
   "id": "da069588-7bf1-4b90-abe2-d9764afeab1f",
   "metadata": {},
   "outputs": [],
   "source": [
    "name=f\"svi{names[0]}\""
   ]
  },
  {
   "cell_type": "markdown",
   "id": "19294e1f-bf4c-417d-be32-aefe2fc3693a",
   "metadata": {},
   "source": [
    "### Grid Command info"
   ]
  },
  {
   "cell_type": "markdown",
   "id": "50e6f14d-d029-41eb-a05e-119492d19b4d",
   "metadata": {},
   "source": [
    "Specifying the coordinates for grid on surface"
   ]
  },
  {
   "cell_type": "code",
   "execution_count": 25,
   "id": "1f888da1-ee16-4136-9c87-401e051a4177",
   "metadata": {},
   "outputs": [
    {
     "name": "stdout",
     "output_type": "stream",
     "text": [
      "x and y in m (74510.0, 16360.0)\n",
      "lat lon of lower left corner 48.176,-123.762\n",
      "lat lon of upper right corner 48.846,-123.542\n",
      "Model grid spacing should be at least 75 m for a frequency max of 4 Hz\n"
     ]
    },
    {
     "name": "stderr",
     "output_type": "stream",
     "text": [
      "/var/folders/f_/9ygytkln26v3cbhb6ytsqcjc0000gq/T/ipykernel_39493/503445679.py:2: DeprecationWarning: `alltrue` is deprecated as of NumPy 1.25.0, and will be removed in NumPy 2.0. Please use `all` instead.\n",
      "  X,_,_= gps2dist_azimuth(latMin, lonMin, latMin, lonMax)\n",
      "/var/folders/f_/9ygytkln26v3cbhb6ytsqcjc0000gq/T/ipykernel_39493/503445679.py:3: DeprecationWarning: `alltrue` is deprecated as of NumPy 1.25.0, and will be removed in NumPy 2.0. Please use `all` instead.\n",
      "  Y,_,_= gps2dist_azimuth(latMin, lonMin, latMax, lonMin)\n"
     ]
    }
   ],
   "source": [
    "# Compute cartesian locations for source\n",
    "X,_,_= gps2dist_azimuth(latMin, lonMin, latMin, lonMax)\n",
    "Y,_,_= gps2dist_azimuth(latMin, lonMin, latMax, lonMin)\n",
    "X,Y=np.round(X,-1),np.round(Y,-1)\n",
    "print(f\"x and y in m {Y,X }\")\n",
    "print(f\"lat lon of lower left corner {latMin:.3f},{lonMin:.3f}\")\n",
    "print(f\"lat lon of upper right corner {latMax:.3f},{lonMax:.3f}\")\n",
    "print(f\"Model grid spacing should be at least {step_size:.0f} m for a frequency max of {freqMax} Hz\")"
   ]
  },
  {
   "cell_type": "markdown",
   "id": "384ff9af-79a2-4f31-8630-d4ed045ba533",
   "metadata": {},
   "source": [
    "For the model depth I'm using the event depth plus a buffer of 2 times the width of the supergrid layer. I made that up"
   ]
  },
  {
   "cell_type": "code",
   "execution_count": 26,
   "id": "6a85aa21-b522-4252-b670-2fbcd749a92c",
   "metadata": {},
   "outputs": [
    {
     "name": "stdout",
     "output_type": "stream",
     "text": [
      "Maximum depth based on velocity model 93.0 km\n",
      "We are using 36.0 km as the depth of our model\n"
     ]
    }
   ],
   "source": [
    "print(f\"Maximum depth based on velocity model {depth_max} km\")\n",
    "domainDepth=np.round((np.abs(event['depth']*1000)+2*supergrid_thickness),-3)\n",
    "print(f\"We are using {domainDepth/1000} km as the depth of our model\")"
   ]
  },
  {
   "cell_type": "code",
   "execution_count": 27,
   "id": "b908b606-be28-4b05-99fd-833d737c95ee",
   "metadata": {},
   "outputs": [
    {
     "name": "stdout",
     "output_type": "stream",
     "text": [
      "grid x=74510.0 y=16360.0 z=36000.0 lat=48.176 lon=-123.762 az=0 h=75\n",
      "\n"
     ]
    }
   ],
   "source": [
    "grid_cmd=f\"grid x={Y} y={X} z={domainDepth} lat={latMin:.3f} lon={lonMin:.3f} az=0 h={step_size:.0f}\\n\"\n",
    "print(grid_cmd)"
   ]
  },
  {
   "cell_type": "markdown",
   "id": "f2f2b788-2b11-4a41-92f7-bcc40b60c362",
   "metadata": {},
   "source": [
    "### Material Model Command Info"
   ]
  },
  {
   "cell_type": "code",
   "execution_count": 28,
   "id": "434a4fa9-e4dc-420a-a3d5-090a02318f36",
   "metadata": {},
   "outputs": [],
   "source": [
    "if use_velocity3D:\n",
    "    sff.generate_pfile(velmodel, name, lonMin_vmod_trim, lonMax_vmod_trim, latMin_vmod_trim, latMax_vmod_trim)"
   ]
  },
  {
   "cell_type": "code",
   "execution_count": 29,
   "id": "bdfe2d1d-b17d-4c71-ae8d-245b020a5db3",
   "metadata": {},
   "outputs": [
    {
     "name": "stdout",
     "output_type": "stream",
     "text": [
      "pfile filename=sviSHDB.ppmod\n",
      "\n"
     ]
    }
   ],
   "source": [
    "block_cmd=\"\"\n",
    "if use_velocity3D:\n",
    "    pfile_cmd=f\"{block_cmd}pfile filename={name}.ppmod\\n\"\n",
    "else:\n",
    "    pfile_cmd=block_cmd\n",
    "print(pfile_cmd)"
   ]
  },
  {
   "cell_type": "markdown",
   "id": "31a6b65f-5af9-4d2a-9114-006579c88927",
   "metadata": {},
   "source": [
    "### Topography Command Info"
   ]
  },
  {
   "cell_type": "markdown",
   "id": "c41b603b-0ac1-443a-a6c3-23028874ce19",
   "metadata": {},
   "source": [
    "zmax is the value that sw4 uses for making its curvilinear grid"
   ]
  },
  {
   "cell_type": "code",
   "execution_count": 30,
   "id": "a7cdfddd-0dcc-4032-abf5-73d93b26a43f",
   "metadata": {},
   "outputs": [
    {
     "name": "stdout",
     "output_type": "stream",
     "text": [
      "zmax is 5590.051\n"
     ]
    }
   ],
   "source": [
    "print(f\"zmax is {np.round(z_max,3)}\")"
   ]
  },
  {
   "cell_type": "markdown",
   "id": "f77cd962-d4a5-4a29-a7bd-2e6ac7f0734a",
   "metadata": {},
   "source": [
    "Generate the smaller topography file ending in `.topo` from netcdf file that is the size of the velocity model"
   ]
  },
  {
   "cell_type": "code",
   "execution_count": 31,
   "id": "119a0c7d-8574-4def-954d-7635d0d0f8dc",
   "metadata": {},
   "outputs": [],
   "source": [
    "sff.write_topo(file2load_topo, name, lonMin_topo, lonMax_topo, latMin_topo, latMax_topo)"
   ]
  },
  {
   "cell_type": "code",
   "execution_count": 32,
   "id": "6865781b-23da-4342-8a58-16c8fd83ec59",
   "metadata": {},
   "outputs": [
    {
     "name": "stdout",
     "output_type": "stream",
     "text": [
      "topography input=grid file=sviSHDB.topo zmax=5590.051 order=3\n",
      "\n"
     ]
    }
   ],
   "source": [
    "topo_cmd=f\"topography input=grid file={name}.topo zmax={z_max:.3f} order=3\\n\"\n",
    "print(topo_cmd)"
   ]
  },
  {
   "cell_type": "markdown",
   "id": "270ce038-c585-4b8b-a35a-bd7ab8a99bc3",
   "metadata": {},
   "source": [
    "### Source Command Info"
   ]
  },
  {
   "cell_type": "markdown",
   "id": "065d6f97-8dd1-4a7f-9367-df5b122ddb27",
   "metadata": {},
   "source": [
    "I'm making numerical green's functions so I run each of the six components of the MT "
   ]
  },
  {
   "cell_type": "code",
   "execution_count": 33,
   "id": "6d9bee52-2533-44c6-b39c-558fb925c4bd",
   "metadata": {},
   "outputs": [
    {
     "name": "stdout",
     "output_type": "stream",
     "text": [
      "source lat=48.225 lon=-123.605 depth=31058.268  mxx=1.0 type=Dirac t0=0\n",
      "\n",
      "source lat=48.225 lon=-123.605 depth=31058.268  myy=1.0 type=Dirac t0=0\n",
      "\n",
      "source lat=48.225 lon=-123.605 depth=31058.268  mzz=1.0 type=Dirac t0=0\n",
      "\n",
      "source lat=48.225 lon=-123.605 depth=31058.268  mxy=1.0 type=Dirac t0=0\n",
      "\n",
      "source lat=48.225 lon=-123.605 depth=31058.268  mxz=1.0 type=Dirac t0=0\n",
      "\n",
      "source lat=48.225 lon=-123.605 depth=31058.268  myz=1.0 type=Dirac t0=0\n",
      "\n"
     ]
    }
   ],
   "source": [
    "sourcetype=\"Dirac\"\n",
    "moment=1.0\n",
    "gf_components=[\"mxx\",\"myy\",\"mzz\",\"mxy\",\"mxz\",\"myz\"]\n",
    "eventLat, eventLon=event['lat'], event['lon']\n",
    "eventDepth=np.abs(event['depth']*1000)\n",
    "source_cmd_list=[]\n",
    "for comp in gf_components:\n",
    "    src_cmd=f\"source lat={eventLat:.3f} lon={eventLon:.3f} depth={eventDepth}  {comp}={moment} type=Dirac t0=0\\n\"\n",
    "    source_cmd_list.append(src_cmd)\n",
    "    print(src_cmd)"
   ]
  },
  {
   "cell_type": "markdown",
   "id": "08ba4722-15b4-4f10-80f0-40d20cac9adb",
   "metadata": {},
   "source": [
    "### Receiver Output Command Info"
   ]
  },
  {
   "cell_type": "code",
   "execution_count": 34,
   "id": "1e4b2a9e-36b4-4bde-ad75-6fc3ca9e877d",
   "metadata": {},
   "outputs": [
    {
     "name": "stdout",
     "output_type": "stream",
     "text": [
      "rec lat=48.396 lon=-123.636 depth=0 nsew=1 variables=displacement file=GLBC_mxx usgsformat=0 sacformat=1\n",
      "rec lat=48.632 lon=-123.681 depth=0 nsew=1 variables=displacement file=MGCB_mxx usgsformat=0 sacformat=1\n",
      "rec lat=48.797 lon=-123.636 depth=0 nsew=1 variables=displacement file=SHDB_mxx usgsformat=0 sacformat=1\n",
      "rec lat=48.472 lon=-123.636 depth=0 nsew=1 variables=displacement file=SHVB_mxx usgsformat=0 sacformat=1\n",
      "rec lat=48.395 lon=-123.673 depth=0 nsew=1 variables=displacement file=SOKB_mxx usgsformat=0 sacformat=1\n",
      "rec lat=48.661 lon=-123.570 depth=0 nsew=1 variables=displacement file=KELB_mxx usgsformat=0 sacformat=1\n",
      "rec lat=48.661 lon=-123.571 depth=0 nsew=1 variables=displacement file=KLNB_mxx usgsformat=0 sacformat=1\n",
      "rec lat=48.645 lon=-123.733 depth=0 nsew=1 variables=displacement file=TWKB_mxx usgsformat=0 sacformat=1\n",
      "\n",
      "rec lat=48.396 lon=-123.636 depth=0 nsew=1 variables=displacement file=GLBC_myy usgsformat=0 sacformat=1\n",
      "rec lat=48.632 lon=-123.681 depth=0 nsew=1 variables=displacement file=MGCB_myy usgsformat=0 sacformat=1\n",
      "rec lat=48.797 lon=-123.636 depth=0 nsew=1 variables=displacement file=SHDB_myy usgsformat=0 sacformat=1\n",
      "rec lat=48.472 lon=-123.636 depth=0 nsew=1 variables=displacement file=SHVB_myy usgsformat=0 sacformat=1\n",
      "rec lat=48.395 lon=-123.673 depth=0 nsew=1 variables=displacement file=SOKB_myy usgsformat=0 sacformat=1\n",
      "rec lat=48.661 lon=-123.570 depth=0 nsew=1 variables=displacement file=KELB_myy usgsformat=0 sacformat=1\n",
      "rec lat=48.661 lon=-123.571 depth=0 nsew=1 variables=displacement file=KLNB_myy usgsformat=0 sacformat=1\n",
      "rec lat=48.645 lon=-123.733 depth=0 nsew=1 variables=displacement file=TWKB_myy usgsformat=0 sacformat=1\n",
      "\n",
      "rec lat=48.396 lon=-123.636 depth=0 nsew=1 variables=displacement file=GLBC_mzz usgsformat=0 sacformat=1\n",
      "rec lat=48.632 lon=-123.681 depth=0 nsew=1 variables=displacement file=MGCB_mzz usgsformat=0 sacformat=1\n",
      "rec lat=48.797 lon=-123.636 depth=0 nsew=1 variables=displacement file=SHDB_mzz usgsformat=0 sacformat=1\n",
      "rec lat=48.472 lon=-123.636 depth=0 nsew=1 variables=displacement file=SHVB_mzz usgsformat=0 sacformat=1\n",
      "rec lat=48.395 lon=-123.673 depth=0 nsew=1 variables=displacement file=SOKB_mzz usgsformat=0 sacformat=1\n",
      "rec lat=48.661 lon=-123.570 depth=0 nsew=1 variables=displacement file=KELB_mzz usgsformat=0 sacformat=1\n",
      "rec lat=48.661 lon=-123.571 depth=0 nsew=1 variables=displacement file=KLNB_mzz usgsformat=0 sacformat=1\n",
      "rec lat=48.645 lon=-123.733 depth=0 nsew=1 variables=displacement file=TWKB_mzz usgsformat=0 sacformat=1\n",
      "\n",
      "rec lat=48.396 lon=-123.636 depth=0 nsew=1 variables=displacement file=GLBC_mxy usgsformat=0 sacformat=1\n",
      "rec lat=48.632 lon=-123.681 depth=0 nsew=1 variables=displacement file=MGCB_mxy usgsformat=0 sacformat=1\n",
      "rec lat=48.797 lon=-123.636 depth=0 nsew=1 variables=displacement file=SHDB_mxy usgsformat=0 sacformat=1\n",
      "rec lat=48.472 lon=-123.636 depth=0 nsew=1 variables=displacement file=SHVB_mxy usgsformat=0 sacformat=1\n",
      "rec lat=48.395 lon=-123.673 depth=0 nsew=1 variables=displacement file=SOKB_mxy usgsformat=0 sacformat=1\n",
      "rec lat=48.661 lon=-123.570 depth=0 nsew=1 variables=displacement file=KELB_mxy usgsformat=0 sacformat=1\n",
      "rec lat=48.661 lon=-123.571 depth=0 nsew=1 variables=displacement file=KLNB_mxy usgsformat=0 sacformat=1\n",
      "rec lat=48.645 lon=-123.733 depth=0 nsew=1 variables=displacement file=TWKB_mxy usgsformat=0 sacformat=1\n",
      "\n",
      "rec lat=48.396 lon=-123.636 depth=0 nsew=1 variables=displacement file=GLBC_mxz usgsformat=0 sacformat=1\n",
      "rec lat=48.632 lon=-123.681 depth=0 nsew=1 variables=displacement file=MGCB_mxz usgsformat=0 sacformat=1\n",
      "rec lat=48.797 lon=-123.636 depth=0 nsew=1 variables=displacement file=SHDB_mxz usgsformat=0 sacformat=1\n",
      "rec lat=48.472 lon=-123.636 depth=0 nsew=1 variables=displacement file=SHVB_mxz usgsformat=0 sacformat=1\n",
      "rec lat=48.395 lon=-123.673 depth=0 nsew=1 variables=displacement file=SOKB_mxz usgsformat=0 sacformat=1\n",
      "rec lat=48.661 lon=-123.570 depth=0 nsew=1 variables=displacement file=KELB_mxz usgsformat=0 sacformat=1\n",
      "rec lat=48.661 lon=-123.571 depth=0 nsew=1 variables=displacement file=KLNB_mxz usgsformat=0 sacformat=1\n",
      "rec lat=48.645 lon=-123.733 depth=0 nsew=1 variables=displacement file=TWKB_mxz usgsformat=0 sacformat=1\n",
      "\n",
      "rec lat=48.396 lon=-123.636 depth=0 nsew=1 variables=displacement file=GLBC_myz usgsformat=0 sacformat=1\n",
      "rec lat=48.632 lon=-123.681 depth=0 nsew=1 variables=displacement file=MGCB_myz usgsformat=0 sacformat=1\n",
      "rec lat=48.797 lon=-123.636 depth=0 nsew=1 variables=displacement file=SHDB_myz usgsformat=0 sacformat=1\n",
      "rec lat=48.472 lon=-123.636 depth=0 nsew=1 variables=displacement file=SHVB_myz usgsformat=0 sacformat=1\n",
      "rec lat=48.395 lon=-123.673 depth=0 nsew=1 variables=displacement file=SOKB_myz usgsformat=0 sacformat=1\n",
      "rec lat=48.661 lon=-123.570 depth=0 nsew=1 variables=displacement file=KELB_myz usgsformat=0 sacformat=1\n",
      "rec lat=48.661 lon=-123.571 depth=0 nsew=1 variables=displacement file=KLNB_myz usgsformat=0 sacformat=1\n",
      "rec lat=48.645 lon=-123.733 depth=0 nsew=1 variables=displacement file=TWKB_myz usgsformat=0 sacformat=1\n",
      "\n"
     ]
    }
   ],
   "source": [
    "# set output type\n",
    "out='displacement'\n",
    "\n",
    "rec_cmd_list=[]\n",
    "for comp in gf_components:\n",
    "    rec_cmd=\"\"\n",
    "    for i in range(len(stas)):\n",
    "        rec_cmd=rec_cmd+f\"rec lat={stas['lat'][i]:.3f} lon={stas['lon'][i]:.3f} depth=0 nsew=1 variables={out} file={stas['sta'][i]}_{comp} usgsformat={usgsformat} sacformat={sacformat}\\n\"\n",
    "    print(rec_cmd)\n",
    "    rec_cmd_list.append(rec_cmd)"
   ]
  },
  {
   "cell_type": "markdown",
   "id": "8489a7fd-23d0-4965-9971-5c53dc4ba327",
   "metadata": {},
   "source": [
    "!! depth=0 means it's the topography"
   ]
  },
  {
   "cell_type": "markdown",
   "id": "64ccffed-daeb-4802-8926-87af50f6e479",
   "metadata": {},
   "source": [
    "### Other Command Info"
   ]
  },
  {
   "cell_type": "code",
   "execution_count": 35,
   "id": "ca5de22f-49ce-4f17-a61f-8d7625dec22d",
   "metadata": {},
   "outputs": [
    {
     "name": "stdout",
     "output_type": "stream",
     "text": [
      "fileio path=sviSHDB_results_mxx verbose=0\n",
      "\n",
      "sviSHDB_mxx.in\n",
      "fileio path=sviSHDB_results_myy verbose=0\n",
      "\n",
      "sviSHDB_myy.in\n",
      "fileio path=sviSHDB_results_mzz verbose=0\n",
      "\n",
      "sviSHDB_mzz.in\n",
      "fileio path=sviSHDB_results_mxy verbose=0\n",
      "\n",
      "sviSHDB_mxy.in\n",
      "fileio path=sviSHDB_results_mxz verbose=0\n",
      "\n",
      "sviSHDB_mxz.in\n",
      "fileio path=sviSHDB_results_myz verbose=0\n",
      "\n",
      "sviSHDB_myz.in\n"
     ]
    }
   ],
   "source": [
    "fileio_cmd_list=[]\n",
    "infilename_list=[]\n",
    "verbosity=0\n",
    "for comp in gf_components:\n",
    "    outdir=name+\"_results_\"+comp\n",
    "    fileio_cmd=f\"fileio path={outdir} verbose={verbosity}\\n\"\n",
    "    print(fileio_cmd)\n",
    "    fileio_cmd_list.append(fileio_cmd)\n",
    "\n",
    "    infilename=f\"{name}_{comp}\"\n",
    "    infilename_list.append(infilename)\n",
    "    print(infilename+'.in')\n",
    "\n",
    "time_cmd=f\"time t={simulation_duration} \\n\""
   ]
  },
  {
   "cell_type": "markdown",
   "id": "e0e5c348-3d9f-4836-b796-656f1ebbeeef",
   "metadata": {},
   "source": [
    "## Some last Calculations before making files"
   ]
  },
  {
   "cell_type": "markdown",
   "id": "967c8756-238e-4c0f-8be2-8351c99d3e03",
   "metadata": {},
   "source": [
    "### Memory Calculations"
   ]
  },
  {
   "cell_type": "markdown",
   "id": "13b96274-bcd0-468c-86d5-6526f7f88c05",
   "metadata": {},
   "source": [
    "Appendix B says roughly 208 bytes/grid point for runs with topography \n",
    "\n",
    "BUT \"For parallel runs, the memory per grid point will be somewhat higher, because of duplicated\r",
    "ghost points at the processor boundaries.\""
   ]
  },
  {
   "cell_type": "code",
   "execution_count": 36,
   "id": "ec990f3f-4dcf-4c70-9796-bde50e909441",
   "metadata": {},
   "outputs": [
    {
     "name": "stdout",
     "output_type": "stream",
     "text": [
      "Rough approximation of memory is 21.74 GB for a maximum frequency of 4 Hz\n",
      "4.0 is the smallest number of tasks we can assign\n",
      "64.0 total memory request\n"
     ]
    }
   ],
   "source": [
    "grid_pts=(X/step_size)*(Y/step_size)*(domainDepth/step_size)\n",
    "mem_per_point=208\n",
    "mem_gb=np.round(grid_pts*mem_per_point/1e9,2)\n",
    "print(f\"Rough approximation of memory is {mem_gb} GB for a maximum frequency of {freqMax} Hz\")\n",
    "min_tasks=np.max([np.ceil(mem_gb*percentbuffer/mem_per_cpu),tasks_lowerlim])\n",
    "print(f\"{min_tasks} is the smallest number of tasks we can assign\")\n",
    "tot_mem=mem_per_cpu*(min_tasks)\n",
    "print(f\"{tot_mem} total memory request\")"
   ]
  },
  {
   "cell_type": "markdown",
   "id": "73c158f7-40d8-430b-b272-c2390ed62078",
   "metadata": {},
   "source": [
    "### Maximum Grid spacing"
   ]
  },
  {
   "cell_type": "markdown",
   "id": "c8139483-4b6a-4b3c-845f-a1291426bead",
   "metadata": {},
   "source": [
    "To have 30 super grid points on the outside of the domain and at least 60 actual grid points in domain, you can't have a step size for your grid higher than:"
   ]
  },
  {
   "cell_type": "code",
   "execution_count": 37,
   "id": "e3364fcd-5501-45fe-8bec-e440e522e354",
   "metadata": {},
   "outputs": [
    {
     "data": {
      "text/plain": [
       "136.33333333333334"
      ]
     },
     "execution_count": 37,
     "metadata": {},
     "output_type": "execute_result"
    }
   ],
   "source": [
    "h_max=np.min([X/120,Y/120,depth_max*1000/90])\n",
    "h_max"
   ]
  },
  {
   "cell_type": "markdown",
   "id": "2f4d8eae-76a2-459f-aa83-a5135e85280a",
   "metadata": {},
   "source": [
    "## Write runfile"
   ]
  },
  {
   "cell_type": "code",
   "execution_count": 38,
   "id": "c2636a58-9282-4a55-8f98-a9dff9147296",
   "metadata": {},
   "outputs": [],
   "source": [
    "if turn_off_topography:\n",
    "    # this line will comment out the topography command if you need to\n",
    "    topo_cmd= (\"#\"+topo_cmd)\n",
    "for i, fname in enumerate(infilename_list):\n",
    "    fname = fname+\".in\"\n",
    "    file=open(fname,'w')\n",
    "    file.write(f\"# SW4 input file \\n\"+\n",
    "                \"# The grid command defines the model domain \\n\"+\n",
    "                grid_cmd+\n",
    "                \"# The fileio command specifies output directory and how much text the code spits out while it runs \\n\"+\n",
    "                fileio_cmd_list[i]+\n",
    "                \"# The topography reads in the topography model we use \\n\"+\n",
    "                topo_cmd+\n",
    "                \"# The pfile command reads the velocity model in \\n\"+\n",
    "                pfile_cmd+\n",
    "                \"# the source sets up the event information \\n\"+\n",
    "                source_cmd_list[i]+\n",
    "                \"# The time command sets model start time (certain STFs require t0>0 to avoid numerical nonsense) \\n\"+\n",
    "                time_cmd+\n",
    "                \"# The rec command set where stations are \\n\"+\n",
    "                rec_cmd_list[i])\n",
    "    file.close()"
   ]
  },
  {
   "cell_type": "markdown",
   "id": "b7081908-db16-49a4-a2a5-33351b671252",
   "metadata": {},
   "source": [
    "## Write Slurm"
   ]
  },
  {
   "cell_type": "code",
   "execution_count": 39,
   "id": "ef106a08-d22f-4f32-be35-b5d653aa6e73",
   "metadata": {},
   "outputs": [],
   "source": [
    "partitionline=f\"#SBATCH --partition={partition_name}     ### Quality of Service (like a queue in PBS)\\n\"\n",
    "timeline=f\"#SBATCH --time={time_maximum}      ### Wall clock time limit in Days-HH:MM:SS\\n\"\n",
    "taskline=f\"#SBATCH --ntasks={int(min_tasks)}     ### Number of tasks to be launched per Node\\n\"\n",
    "memoryline=f\"#SBATCH --mem-per-cpu={int(mem_per_cpu)}G\\n\"\n",
    "accountline=f\"#SBATCH --account={account_name}\\n\"\n",
    "mailline1=\"#SBATCH --mail-type=END,FAIL\\n\"\n",
    "mailline2=\"#SBATCH --mail-user=lpapin@uoregon.edu\\n\\n\"\n",
    "for i, fname in enumerate(infilename_list):\n",
    "    fname_slurm=\"submit_\"+fname\n",
    "    fname_in=fname+\".in\"\n",
    "    jobname=\"sw4\"+str(i)+stas['sta'][0]\n",
    "    jobnameline=f\"#SBATCH --job-name={jobname}    ### Job Name\\n\"\n",
    "    runline=f\"mpirun -np $SLURM_NTASKS sw4 {fname_in}\"\n",
    "    file=open(fname_slurm,'w')\n",
    "    file.write(f\"#!/bin/bash\\n\"+\n",
    "               jobnameline+\n",
    "               partitionline+\n",
    "               timeline+\n",
    "               taskline+\n",
    "               memoryline+\n",
    "               accountline+\n",
    "               mailline1+\n",
    "               mailline2+\n",
    "               f\"module load sw4/3.0.0\\n\"+\n",
    "               runline)\n",
    "    file.close()"
   ]
  }
 ],
 "metadata": {
  "kernelspec": {
   "display_name": "Python 3 (ipykernel)",
   "language": "python",
   "name": "python3"
  },
  "language_info": {
   "codemirror_mode": {
    "name": "ipython",
    "version": 3
   },
   "file_extension": ".py",
   "mimetype": "text/x-python",
   "name": "python",
   "nbconvert_exporter": "python",
   "pygments_lexer": "ipython3",
   "version": "3.11.7"
  }
 },
 "nbformat": 4,
 "nbformat_minor": 5
}
