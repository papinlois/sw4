{
 "cells": [
  {
   "cell_type": "markdown",
   "id": "c1ce960f-2bd9-4969-a0a8-5bf445c36fb0",
   "metadata": {},
   "source": [
    "**First approach on using modules (Pyrocko, MTFIT) to convert moment tensor components and strike, dip, rake angles**"
   ]
  },
  {
   "cell_type": "markdown",
   "id": "f9b5c7b4-19a8-4456-bd59-648d8589a39d",
   "metadata": {},
   "source": [
    "# Moment tensor to strike, dip and rake"
   ]
  },
  {
   "cell_type": "markdown",
   "id": "0b8ce7c1-4e1f-4e70-ac0c-33e597838bdd",
   "metadata": {},
   "source": [
    "## 1. Pyrocko"
   ]
  },
  {
   "cell_type": "code",
   "execution_count": 4,
   "id": "b141b0e9-a37e-459d-8402-40c27e546f04",
   "metadata": {},
   "outputs": [
    {
     "name": "stdout",
     "output_type": "stream",
     "text": [
      "Scalar Moment [Nm]: M0 = 9.73137e+18 (Mw = 6.6)\n",
      "Moment Tensor [Nm]: Mnn =  0.740,  Mee = -0.835, Mdd =  0.093,\n",
      "                    Mne =  0.471,  Mnd =  0.058, Med = -0.308    [ x 1e+19 ]\n",
      "Fault plane 1 [deg]: strike = 242, dip =  78, slip-rake = -171\n",
      "Fault plane 2 [deg]: strike = 150, dip =  81, slip-rake =  -12\n",
      "\n",
      "strike1=241.541, dip1=77.736, rake1=-170.55\n",
      "strike2=149.516, dip2=80.7675, rake2=-12.4275\n",
      "p_ned=(-0.253411, 0.930737, 0.26365)\n",
      "p_azimuth=105.231, p_dip=15.2868\n"
     ]
    }
   ],
   "source": [
    "from pyrocko import moment_tensor as pmt\n",
    "import numpy as num\n",
    "\n",
    "r2d = 180. / num.pi\n",
    "\n",
    "magnitude = 6.3  # Magnitude of the earthquake\n",
    "\n",
    "exp = pmt.magnitude_to_moment(magnitude)  # convert the mag to moment in [Nm]\n",
    "\n",
    "# init pyrocko moment tensor\n",
    "m = pmt.MomentTensor(\n",
    "    mnn=2.34*exp,\n",
    "    mee=-2.64*exp,\n",
    "    mdd=0.295*exp,\n",
    "    mne=1.49*exp,\n",
    "    mnd=0.182*exp,\n",
    "    med=-0.975*exp)\n",
    "\n",
    "print(m)  # print moment tensor\n",
    "\n",
    "# gives out both nodal planes:\n",
    "(s1, d1, r1), (s2, d2, r2) = m.both_strike_dip_rake()\n",
    "\n",
    "print('strike1=%g, dip1=%g, rake1=%g' % (s1, d1, r1))\n",
    "print('strike2=%g, dip2=%g, rake2=%g' % (s2, d2, r2))\n",
    "\n",
    "\n",
    "# p-axis normal vector in north-east-down coordinates\n",
    "p_ned = m.p_axis()\n",
    "\n",
    "print('p_ned=(%g, %g, %g)' % tuple(p_ned))\n",
    "\n",
    "# convert to azimuth and dip\n",
    "p_azimuth = num.arctan2(p_ned[1], p_ned[0]) * r2d\n",
    "p_dip = num.arcsin(p_ned[2]) * r2d\n",
    "\n",
    "print('p_azimuth=%g, p_dip=%g' % (p_azimuth, p_dip))"
   ]
  },
  {
   "cell_type": "markdown",
   "id": "02a002a6-e5e3-4afe-acd2-17ed283a0b4a",
   "metadata": {},
   "source": [
    "## 2. MTFit"
   ]
  },
  {
   "cell_type": "code",
   "execution_count": 5,
   "id": "777e45d2-437d-4d03-aaf7-c2d3e32f40c9",
   "metadata": {},
   "outputs": [
    {
     "name": "stdout",
     "output_type": "stream",
     "text": [
      "Fault Plane 1 - Strike: 91.5, Dip: 77.0, Rake: 142.7\n"
     ]
    }
   ],
   "source": [
    "import numpy as np\n",
    "from MTfit.convert.moment_tensor_conversion import MT33_SDR\n",
    "\n",
    "# Define your 3x3 moment tensor (example values)\n",
    "moment_tensor = np.array([[1, 1, 1],\n",
    "                          [1, 1, 1],\n",
    "                          [1, 1, 1]])\n",
    "\n",
    "# Use MT33_SDR to convert the moment tensor to strike, dip, and rake\n",
    "# MT33_SDR returns two solutions for the two possible fault planes\n",
    "fault_planes = MT33_SDR(moment_tensor)\n",
    "fault_planes = np.degrees(fault_planes)\n",
    "# Output the results\n",
    "print(f\"Fault Plane 1 - Strike: {fault_planes[0][0]:.1f}, Dip: {fault_planes[1][0]:.1f}, Rake: {fault_planes[2][0]:.1f}\")\n",
    "#print(f\"Fault Plane 2 - Strike: {fault_planes[1][0]:.1f}, Dip: {fault_planes[1][1]:.1f}, Rake: {fault_planes[1][2]:.1f}\")\n"
   ]
  },
  {
   "cell_type": "markdown",
   "id": "e85a117e-4817-4ebb-888f-249c366c2587",
   "metadata": {},
   "source": [
    "# Strike, dip and rake to moment tensor"
   ]
  },
  {
   "cell_type": "markdown",
   "id": "1b2d328d-75d8-4cb8-b59f-1a5d5d8832f4",
   "metadata": {},
   "source": [
    "## 1. Pyrocko"
   ]
  },
  {
   "cell_type": "code",
   "execution_count": 6,
   "id": "e0077300-1661-47a2-9757-0ad80768f4b9",
   "metadata": {},
   "outputs": [
    {
     "name": "stdout",
     "output_type": "stream",
     "text": [
      "[-0.75956309 -0.16585349  0.92541658 -0.4175028  -0.29341204  0.09581821]\n"
     ]
    }
   ],
   "source": [
    "from pyrocko import moment_tensor as pmt\n",
    "\n",
    "magnitude = 6.3  # Magnitude of the earthquake\n",
    "\n",
    "m0 = pmt.magnitude_to_moment(magnitude)  # convert the mag to moment\n",
    "\n",
    "strike = 130\n",
    "dip = 40\n",
    "rake = 110\n",
    "mt = pmt.MomentTensor(strike=strike, dip=dip, rake=rake, scalar_moment=m0)\n",
    "\n",
    "m6 = [mt.mnn, mt.mee, mt.mdd, mt.mne, mt.mnd, mt.med]  # The six MT components\n",
    "print(m6/mt.scalar_moment())  # normalized MT components"
   ]
  },
  {
   "cell_type": "code",
   "execution_count": null,
   "id": "f4117bb3-01ce-4bef-94df-50c40caba012",
   "metadata": {},
   "outputs": [],
   "source": []
  }
 ],
 "metadata": {
  "kernelspec": {
   "display_name": "Python 3 (ipykernel)",
   "language": "python",
   "name": "python3"
  },
  "language_info": {
   "codemirror_mode": {
    "name": "ipython",
    "version": 3
   },
   "file_extension": ".py",
   "mimetype": "text/x-python",
   "name": "python",
   "nbconvert_exporter": "python",
   "pygments_lexer": "ipython3",
   "version": "3.11.7"
  }
 },
 "nbformat": 4,
 "nbformat_minor": 5
}
