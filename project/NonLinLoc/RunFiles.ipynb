{
 "cells": [
  {
   "cell_type": "markdown",
   "id": "ebcac22f-28d9-426f-9215-7fdc2d2b3670",
   "metadata": {},
   "source": [
    "# Runfiles for NonLinLoc: Steps Vel2Grid + Grid2Time + NLLoc\n",
    "\n",
    "This notebook was made to modify templates of runfiles for the NonLinLoc software. Their configuration is for a 3D velocity model, some command would have to be changed 2D.\n",
    "\n",
    "1. First step is defining the travel-time grids. If it's for Vel2Grid: you can use the Matching_VelModel notebook to create 2 .txt files that will be needed to modify the template of the runfile. It's made to add the lines for 2 commands: VGGRID and LAYER. If it's for Vel2Grid3D: the line VGGRID is defined in SimulPS_Vel2Grid notebook and the VGINP command will be add instead of LAYER.\n",
    "2. Second step, it modifies the command lines for the runfile made for location of events with NLLoc. All the parameters needed can be entered here and the modifications will be made on the template.\n",
    "3. Final step, the templates are merged into 1 runfile and clear out of unecessary lines, and ready to be use!"
   ]
  },
  {
   "cell_type": "code",
   "execution_count": 154,
   "id": "7d54b74f-551a-4d42-9dc3-5e18d3d1b6b3",
   "metadata": {},
   "outputs": [],
   "source": [
    "import os\n",
    "import glob\n",
    "import json\n",
    "base_dir = '/Users/lpapin/Documents/phd/projects/sw4/nonlinloc/'\n",
    "base_dir_talapas = '/projects/amt/lpapin/SVI/NLLoc'"
   ]
  },
  {
   "cell_type": "markdown",
   "id": "8cc1c019-98cd-496a-9d66-2a77bab6390b",
   "metadata": {},
   "source": [
    "For now everything is in local but since NonLinLoc is on the cluster, let's try to keep a similar organization than the creator:\n",
    "\n",
    "- NLLoc as the main folder\n",
    "- NLLoc/model for the model grid\n",
    "- NLLoc/time for the travel-time grid\n",
    "- NLLoc/obs for the picks\n",
    "- NLLoc/run for the runfiles\n",
    "- NLLoc/loc for the locations\n",
    "\n",
    "NB: #LP is added to each line modified thanks to this notebook to remember which lines were the original ones."
   ]
  },
  {
   "cell_type": "markdown",
   "id": "b9fd74f6-b760-4838-ab2e-3f901e93433e",
   "metadata": {},
   "source": [
    "# 0. Generic statement\n",
    "\n",
    "The TRANS command is defined as a generic statement so it's needed for any step of NonLinLoc, meaning it has to be in *any* runfile as well as CONTROL."
   ]
  },
  {
   "cell_type": "code",
   "execution_count": 155,
   "id": "821c2a4c-a0f1-4414-8eb8-a5d67ef76a0b",
   "metadata": {},
   "outputs": [
    {
     "name": "stdout",
     "output_type": "stream",
     "text": [
      "TRANS LAMBERT line has been modified successfully.\n"
     ]
    }
   ],
   "source": [
    "# Read the original .run file\n",
    "with open(base_dir+'ttgrid_runfile_template.in', 'r') as file:\n",
    "    lines = file.readlines()\n",
    "\n",
    "# Get the parameters of the rectangle from the polygon\n",
    "with open(\"svi_poly.json\", 'r') as file:\n",
    "    polygon = json.load(file)\n",
    "latOrig = polygon[0]['olat']\n",
    "longOrig = polygon[0]['olon']\n",
    "firstStdParal = polygon[0]['plat1']\n",
    "secondStdParal = polygon[0]['plat2']\n",
    "rotAngle = 0.0\n",
    "\n",
    "# Determine the command line for TRANS LAMBERT and replace\n",
    "trans_command = 'TRANS LAMBERT WGS-84 ' + f'{latOrig} ' + f'{longOrig} ' + f'{firstStdParal} ' + f'{secondStdParal} ' + f'{rotAngle}'\n",
    "for i, line in enumerate(lines):\n",
    "    if line.startswith('TRANS LAMBERT '):\n",
    "        lines[i] = trans_command + ' #LP' + '\\n'\n",
    "        break\n",
    "\n",
    "with open(base_dir+'ttgrid_runfile_final.in', 'w') as file:\n",
    "    file.writelines(line.rstrip() + '\\n' for line in lines)\n",
    "\n",
    "print('TRANS LAMBERT line has been modified successfully.')"
   ]
  },
  {
   "cell_type": "markdown",
   "id": "166cf9cd-ec03-4bf8-ba07-debc2c8e2e21",
   "metadata": {},
   "source": [
    "# 1. Travel-time grids\n",
    "\n",
    "Vel2Grid and Vel2Grid3D have slightly different input. They have common commands but the first one use LAYER while the second one has VGINP and VGCLIP. "
   ]
  },
  {
   "cell_type": "code",
   "execution_count": 156,
   "id": "4e1a79bc-3fad-42bc-a26f-f85504c29367",
   "metadata": {},
   "outputs": [],
   "source": [
    "# Precise here which one is used to run the notebook entirely\n",
    "which = 'vel2grid3d' # 'vel2grid\n",
    "wave = 'P' # 'S'"
   ]
  },
  {
   "cell_type": "markdown",
   "id": "a04ab27c-bf9a-4aac-94fb-3ddb293775da",
   "metadata": {
    "jp-MarkdownHeadingCollapsed": true
   },
   "source": [
    "## Vel2Grid\n",
    "\n",
    "*Given a velocity model description, Vel2Grid generates a 3D model Grid header and buffer files containing velocities, slownesses or other model specification.*\n",
    "\n",
    "First we're modifying the line giving the grid description VGGRID for Vel2Grid."
   ]
  },
  {
   "cell_type": "code",
   "execution_count": 157,
   "id": "622176ad-c887-492a-b7d8-a2e9e1fd5508",
   "metadata": {},
   "outputs": [
    {
     "name": "stdout",
     "output_type": "stream",
     "text": [
      "VGGRID line has been modified successfully.\n"
     ]
    }
   ],
   "source": [
    "# Read the original .run file\n",
    "with open(base_dir+'ttgrid_runfile_final.in', 'r') as file:\n",
    "    lines = file.readlines()\n",
    "\n",
    "# Read the second line directly from VGGRID_command.txt\n",
    "with open(base_dir+'VGGRID_command.txt', 'r') as file:\n",
    "    lines_to_add = file.readlines()\n",
    "    vggrid_command = lines_to_add[1].strip()\n",
    "\n",
    "# Find and replace the VGGRID line in the .run file\n",
    "for i, line in enumerate(lines):\n",
    "    if line.startswith('VGGRID'):\n",
    "        lines[i] = vggrid_command + ' #LP' + '\\n'\n",
    "        break\n",
    "\n",
    "# Write the modified content back to a new file (or overwrite the original)\n",
    "with open(base_dir+'ttgrid_runfile_final.in', 'w') as file:\n",
    "    file.writelines(line.rstrip() + '\\n' for line in lines)\n",
    "\n",
    "print('VGGRID line has been modified successfully.')"
   ]
  },
  {
   "cell_type": "markdown",
   "id": "90bdd13c-3578-48e4-8b5c-c50048014214",
   "metadata": {},
   "source": [
    "Now we add the lines giving the velocity model layers. It is used for a type of model where the velocites don't change with lat and lon (hence the correction for the SVI project)."
   ]
  },
  {
   "cell_type": "code",
   "execution_count": 158,
   "id": "a9d8822f-d2b5-41a1-a1f2-dbb9d1e9f884",
   "metadata": {},
   "outputs": [
    {
     "name": "stdout",
     "output_type": "stream",
     "text": [
      "No LAYER lines added; Vel2Grid3D has been choosen\n"
     ]
    }
   ],
   "source": [
    "if which=='vel2grid':\n",
    "    # Read the second line directly from LAYER_command.txt\n",
    "    with open(base_dir+'LAYER_command.txt', 'r') as file:\n",
    "        layer_lines = [line.strip() for line in file.readlines()[2:]]\n",
    "    layer_lines = [f'{line} #LP' for line in layer_lines]\n",
    "    \n",
    "    # Find the line to insert the LAYER commands in the .run file\n",
    "    for i, line in enumerate(lines):\n",
    "        if line.startswith('#LAYER depth Vp_top Vp_grad Vs_top Vs_grad p_top p_grad'):\n",
    "            insertion_point = i + 1  # Insert after this line\n",
    "            break\n",
    "    \n",
    "    # Insert the LAYER lines at the specified point\n",
    "    modified_lines = lines[:insertion_point] + layer_lines + lines[insertion_point:]\n",
    "    \n",
    "    # Write the modified content back to a new file (or overwrite the original)\n",
    "    with open(base_dir+'ttgrid_runfile_final.in', 'w') as file:\n",
    "        file.writelines(line.rstrip() + '\\n' for line in modified_lines)\n",
    "    \n",
    "    print('LAYER lines have been added successfully.')\n",
    "else:\n",
    "    print('No LAYER lines added; Vel2Grid3D has been choosen')"
   ]
  },
  {
   "cell_type": "markdown",
   "id": "4f7769f7-55df-4e0c-a2ad-f6fa6d9daba9",
   "metadata": {
    "jp-MarkdownHeadingCollapsed": true
   },
   "source": [
    "## Vel2Grid3D\n",
    "\n",
    "*Given an existing 3D velocity model defined by interpolation between control point nodes and created by velocity inversion programs such as SimulPS, Simul2000 and FDTomo to a 3D model grid. (outputs a 3D Grid) , Vel2Grid3D generates a 3D model Grid header and buffer files containing velocities, slownesses or other model specification.*\n",
    "\n",
    "This is the part used for SVI, using SimulPS_Vel2Grid notebook to create the files."
   ]
  },
  {
   "cell_type": "code",
   "execution_count": 159,
   "id": "154c5670-ca9c-46fd-864d-cfb08878a50c",
   "metadata": {},
   "outputs": [
    {
     "name": "stdout",
     "output_type": "stream",
     "text": [
      "VGINP line has been modified successfully.\n"
     ]
    }
   ],
   "source": [
    "# Get the filename of the SimulPS file depending on the wave\n",
    "velocities_grids = glob.glob(base_dir + f'Savard*{wave}.txt')\n",
    "filename_simulPS = [os.path.basename(grid) for grid in velocities_grids][0]\n",
    "\n",
    "if which=='vel2grid3d':\n",
    "    # Determine the filename for the SimulPS\n",
    "    input_filename_simulPS = base_dir_talapas + '/model/' + filename_simulPS\n",
    "    \n",
    "    # Read the original .run file\n",
    "    with open(base_dir+'ttgrid_runfile_final.in', 'r') as file:\n",
    "        lines = file.readlines()\n",
    "    \n",
    "    vginp_command = 'VGINP ' + input_filename_simulPS + ' SIMUL2K ' + '0 0 0'\n",
    "    # Find and replace the VGINP line in the .run file\n",
    "    for i, line in enumerate(lines):\n",
    "        if line.startswith('#VGINP'):\n",
    "            lines[i] = vginp_command + ' #LP' + '\\n'\n",
    "            break\n",
    "    \n",
    "    # Write the modified content back to a new file (or overwrite the original)\n",
    "    with open(base_dir+'ttgrid_runfile_final.in', 'w') as file:\n",
    "        file.writelines(line.rstrip() + '\\n' for line in lines)\n",
    "    \n",
    "    print('VGINP line has been modified successfully.')\n",
    "else:\n",
    "    print('No VGINP line added; Vel2Grid has been choosen')"
   ]
  },
  {
   "cell_type": "markdown",
   "id": "b492c77c-523f-422f-9b78-8c4e001f44db",
   "metadata": {
    "jp-MarkdownHeadingCollapsed": true
   },
   "source": [
    "## Grid2Time\n",
    "\n",
    "*Given a velocity model grid, Grid2Time calculates the travel-time from a source point in a 3D grid to all other points in the grid. Optionally, the program also estimates the take-off angles for rays from each point in the grid to the source.*\n",
    "\n",
    "The only line that needs to be modified is the one giving the coordinates of the stations that will be used for the locations. The INCLUDE line seems to be replacing the GTSOURCE lines."
   ]
  },
  {
   "cell_type": "code",
   "execution_count": 160,
   "id": "f95a0183-76a2-4727-b2e5-ca467130876b",
   "metadata": {},
   "outputs": [
    {
     "name": "stdout",
     "output_type": "stream",
     "text": [
      "INCLUDE line has been added successfully.\n"
     ]
    }
   ],
   "source": [
    "# Determine the .txt file for station coordinates\n",
    "input_filename_stas = base_dir_talapas + '/obs/stations_coords_svi.txt'\n",
    "\n",
    "include_command = 'INCLUDE ' + input_filename_stas\n",
    "# Find and replace the INCLUDE line in the .run file\n",
    "for i, line in enumerate(lines):\n",
    "    if line.startswith('INCLUDE'):\n",
    "        lines[i] = include_command + ' #LP' + '\\n'\n",
    "        break\n",
    "\n",
    "# Write the modified content back to a new file (or overwrite the original)\n",
    "with open(base_dir+'ttgrid_runfile_final.in', 'w') as file:\n",
    "    file.writelines(line.rstrip() + '\\n' for line in lines)\n",
    "\n",
    "print('INCLUDE line has been added successfully.')"
   ]
  },
  {
   "cell_type": "markdown",
   "id": "95b49e1e-fd00-4acf-99a7-bf2b48cb9bb4",
   "metadata": {},
   "source": [
    "## Runfile ttgrid resulting\n",
    "\n",
    "Just for clarity, the lines based on the type of Vel2Grid we are not using are removed. Then all lines for travel-time grid and locations are merge into 1 runfile that will be use as input file for all the software."
   ]
  },
  {
   "cell_type": "code",
   "execution_count": 161,
   "id": "31683ac6-3119-44c8-8005-9b6dc460e85e",
   "metadata": {
    "jupyter": {
     "source_hidden": true
    }
   },
   "outputs": [
    {
     "name": "stdout",
     "output_type": "stream",
     "text": [
      "Vel2Grid3D block removed from ttgrid_runfile_final.in.\n"
     ]
    }
   ],
   "source": [
    "# Determine the filename \n",
    "input_file = 'ttgrid_runfile_final.in'\n",
    "with open(input_file, 'r') as infile:\n",
    "    lines = infile.readlines()\n",
    "\n",
    "# Keep the text for the right parameter\n",
    "modified_lines = []\n",
    "inside_block = False\n",
    "if which == 'vel2grid':\n",
    "    for line in lines:\n",
    "        if line.strip() == '## START -- Vel2Grid3D':\n",
    "            inside_block = True  # Start removing lines\n",
    "            continue\n",
    "        if line.strip() == '## END -- Vel2Grid3D':\n",
    "            inside_block = False  # Stop removing lines\n",
    "            continue\n",
    "        # Only keep the lines if we're not inside the block\n",
    "        if not inside_block:\n",
    "            modified_lines.append(line)\n",
    "    with open(input_file, 'w') as outfile:\n",
    "        outfile.writelines(modified_lines)\n",
    "    print(f\"Vel2Grid block removed from {input_file}.\")\n",
    "elif which == 'vel2grid3d':\n",
    "    for line in lines:\n",
    "        if line.strip() == '## START -- Vel2Grid':\n",
    "            inside_block = True  # Start removing lines\n",
    "            continue\n",
    "        if line.strip() == '## END -- Vel2Grid':\n",
    "            inside_block = False  # Stop removing lines\n",
    "            continue\n",
    "        # Only keep the lines if we're not inside the block\n",
    "        if not inside_block:\n",
    "            modified_lines.append(line)\n",
    "    with open(input_file, 'w') as outfile:\n",
    "        outfile.writelines(modified_lines)\n",
    "    print(f\"Vel2Grid3D block removed from {input_file}.\")"
   ]
  },
  {
   "cell_type": "code",
   "execution_count": 162,
   "id": "ad0d8c83-94af-45de-aadb-416a33d5115b",
   "metadata": {},
   "outputs": [
    {
     "name": "stdout",
     "output_type": "stream",
     "text": [
      "CONTROL 1 54321\n",
      "TRANS LAMBERT WGS-84 48.65 -123.75 48.0 49.3 0.0 #LP\n",
      "VGOUT  ./model/layer\n",
      "VGTYPE P\n",
      "VGTYPE S\n",
      "VGGRID 111 146 95 -55.0 -72.5 -1.0 1.0 1.0 1.0 SLOW_LEN #LP\n",
      "VGINP /projects/amt/lpapin/SVI/NLLoc/model/Savard_lcc_P.txt SIMUL2K 0 0 0 #LP\n",
      "GTFILES  ./model/layer  ./time/layer P\n",
      "GTFILES  ./model/layer  ./time/layer S\n",
      "GTMODE GRID3D ANGLES_NO\n",
      "INCLUDE /projects/amt/lpapin/SVI/NLLoc/obs/stations_coords_svi.txt #LP\n",
      "GT_PLFD  1.0e-3  0\n"
     ]
    }
   ],
   "source": [
    "# What does it look like after modifying the .run file for the commands\n",
    "with open(base_dir+'ttgrid_runfile_final.in', 'r') as file:\n",
    "    lines = file.readlines()\n",
    "    non_comment_lines = [line.strip() for line in lines if not line.strip().startswith('#') and line.strip()]\n",
    "    for line in non_comment_lines:\n",
    "        print(line)"
   ]
  },
  {
   "cell_type": "markdown",
   "id": "d805c47e-6a31-487b-8531-ad01e6df47ef",
   "metadata": {},
   "source": [
    "**Now the input file to use Vel2Grid or Vel2Grid3D, and Grid2Timeis ready.**"
   ]
  },
  {
   "cell_type": "markdown",
   "id": "9e1f0665-3b42-4ca2-9e39-84f781dfd801",
   "metadata": {},
   "source": [
    "# 2. Location of events"
   ]
  },
  {
   "cell_type": "markdown",
   "id": "254399f4-83e8-4794-88c1-1e9455191fa2",
   "metadata": {
    "jp-MarkdownHeadingCollapsed": true
   },
   "source": [
    "## NLLoc\n",
    "\n",
    "*NLLoc performs earthquake locations in 3D models using non-linear search techniques.*\n",
    "\n",
    "I need to define the commands LOCFILES, LOCGRID, and TRANS. Not changing for now the LOCSEARCH command but it may be needed."
   ]
  },
  {
   "cell_type": "code",
   "execution_count": 163,
   "id": "03482e6e-085d-4c89-be5e-9f234e30be56",
   "metadata": {},
   "outputs": [
    {
     "name": "stdout",
     "output_type": "stream",
     "text": [
      "LOCFILES line has been modified successfully.\n"
     ]
    }
   ],
   "source": [
    "# Determine the filenames for LOCFILES\n",
    "picks_filename = 'LFE_cat_SVI.nlloc' # Bostock's families by Tim; then to be changed for mine + sorted for choosen stations\n",
    "input_filename_obs = base_dir_talapas + '/obs/' + picks_filename # Picks \n",
    "input_filename_ttgrid = base_dir_talapas + '/time/layer' # Travel-time grids\n",
    "output_filename_loc = base_dir_talapas + '/loc/SVI_Bostock/family' # Location of the events with Bostock's picks from Tim\n",
    "#output_filename_loc = base_dir_talapas + '/loc/SVI' # Location of the events with my picks\n",
    "\n",
    "# Read the original .run file\n",
    "with open(base_dir+'nlloc_runfile_template.in', 'r') as file:\n",
    "    lines = file.readlines()\n",
    "\n",
    "locfiles_command = 'LOCFILES ' + input_filename_obs + ' NLLOC_OBS ' + input_filename_ttgrid + ' ' + output_filename_loc\n",
    "# Find and replace the LOCFILES line in the .run file\n",
    "for i, line in enumerate(lines):\n",
    "    if line.startswith('LOCFILES'):\n",
    "        lines[i] = locfiles_command + ' #LP' + '\\n'\n",
    "        break\n",
    "\n",
    "# Write the modified content back to a new file (or overwrite the original)\n",
    "with open(base_dir+'nlloc_runfile_final.in', 'w') as file:\n",
    "    file.writelines(line.rstrip() + '\\n' for line in lines)\n",
    "\n",
    "print('LOCFILES line has been modified successfully.')"
   ]
  },
  {
   "cell_type": "code",
   "execution_count": 164,
   "id": "7abdb41f-d7f4-474e-83a5-c1f5e7546e71",
   "metadata": {},
   "outputs": [
    {
     "name": "stdout",
     "output_type": "stream",
     "text": [
      "LOCGRID line has been modified successfully.\n"
     ]
    }
   ],
   "source": [
    "# Read the second line directly from LOCGRID_command.txt\n",
    "with open(base_dir+'LOCGRID_command.txt', 'r') as file:\n",
    "    lines_to_add = file.readlines()\n",
    "    locgrid_command = lines_to_add[1].strip()\n",
    "\n",
    "# Find and replace the LOCGRID line in the .run file\n",
    "for i, line in enumerate(lines):\n",
    "    if line.startswith('LOCGRID'):\n",
    "        lines[i] = locgrid_command + ' #LP' + '\\n'\n",
    "        break\n",
    "\n",
    "# Write the modified content back to a new file (or overwrite the original)\n",
    "with open(base_dir+'nlloc_runfile_final.in', 'w') as file:\n",
    "    file.writelines(line.rstrip() + '\\n' for line in lines)\n",
    "\n",
    "print('LOCGRID line has been modified successfully.')"
   ]
  },
  {
   "cell_type": "markdown",
   "id": "e3349f93-6a53-4a18-9604-7db6dbcf9a70",
   "metadata": {},
   "source": [
    "## Runfile nlloc resulting"
   ]
  },
  {
   "cell_type": "code",
   "execution_count": 165,
   "id": "8d6e4b88-5bed-41fb-be48-388e6fbec3a3",
   "metadata": {},
   "outputs": [
    {
     "name": "stdout",
     "output_type": "stream",
     "text": [
      "LOCSIG Lois Papin -- UO\n",
      "LOCCOM Bostock_Loc\n",
      "LOCFILES /projects/amt/lpapin/SVI/NLLoc/obs/LFE_cat_SVI.nlloc NLLOC_OBS /projects/amt/lpapin/SVI/NLLoc/time/layer /projects/amt/lpapin/SVI/NLLoc/loc/SVI_Bostock/family #LP\n",
      "LOCHYPOUT SAVE_NLLOC_ALL SAVE_NLLOC_SUM SAVE_HYPOINV_SUM\n",
      "LOCSEARCH  OCT 8 11 6 0.001 100000 10000 0 0 #Mine\n",
      "LOCMETH EDT_OT_WT 9999.0 4 -1 -1 -1 -1 -1 1\n",
      "LOCGAU 0.2 0.0\n",
      "LOCGAU2 0.01 0.05 2.0\n",
      "LOCPHASEID  P   P p Pn Pg\n",
      "LOCPHASEID  S   S s Sn Sg\n",
      "LOCQUAL2ERR 0.1 0.5 1.0 2.0 99999.9\n",
      "LOCGRID 221 291 189 -55.0 -72.5 -1.0 0.5 0.5 0.5 PROB_DENSITY SAVE #LP\n",
      "LOCPHSTAT 9999.0 -1 9999.0 1.0 1.0 9999.9 -9999.9 9999.9\n",
      "LOCANGLES ANGLES_NO 5\n",
      "LOCMAG ML_HB 1.0 1.110 0.00189\n"
     ]
    }
   ],
   "source": [
    "# What does it look like after modifying the .run file for the commands\n",
    "with open(base_dir+'nlloc_runfile_final.in', 'r') as file:\n",
    "    lines = file.readlines()\n",
    "    non_comment_lines = [line.strip() for line in lines if not line.strip().startswith('#') and line.strip()]\n",
    "    for line in non_comment_lines:\n",
    "        print(line)"
   ]
  },
  {
   "cell_type": "markdown",
   "id": "451e9e0b-2632-482d-ac58-43917192b7fd",
   "metadata": {},
   "source": [
    "**Now the input file to use NLLoc is ready.**"
   ]
  },
  {
   "cell_type": "markdown",
   "id": "3d9c4fe3-5767-47f7-b9ec-b983fe7b9cfe",
   "metadata": {},
   "source": [
    "# Merge all in one runfile"
   ]
  },
  {
   "cell_type": "code",
   "execution_count": 166,
   "id": "dac3ab3b-347a-4a55-8be0-3cb3c74bc0a7",
   "metadata": {
    "jupyter": {
     "source_hidden": true
    }
   },
   "outputs": [
    {
     "name": "stdout",
     "output_type": "stream",
     "text": [
      "All input files merged into nlloc_svi_P.in\n"
     ]
    }
   ],
   "source": [
    "# Define the filename for the full runfile\n",
    "output_file = f'nlloc_svi_{wave}.in'\n",
    "input_files = glob.glob('*_final.in')[::-1]\n",
    "\n",
    "# Remove the wave we are not using\n",
    "remove_suffix = 'S' if wave == 'P' else 'P'\n",
    "#remove_suffix2 = 'Sg' if wave == 'P' else 'Pg'\n",
    "\n",
    "# Open the output file for writing\n",
    "with open(output_file, 'w') as outfile:\n",
    "    # Iterate over all input files\n",
    "    for fname in input_files:\n",
    "        # Open each input file for reading\n",
    "        with open(fname) as infile:\n",
    "            lines = infile.readlines()\n",
    "            for line in lines:\n",
    "                # Check for the commands LOCPHASEID, VGTYPE, and GTFILES\n",
    "                if any(cmd in line for cmd in ['VGTYPE', 'GTFILES']): #'LOCPHASEID', \n",
    "                    # Skip lines that end with either remove_suffix or remove_suffix2\n",
    "                    if line.strip().endswith(remove_suffix): #or line.strip().endswith(remove_suffix2):\n",
    "                        continue  # Skip this line\n",
    "                # Write the remaining lines to the output file\n",
    "                outfile.write(line)\n",
    "            # Add a newline to separate file contents (optional)\n",
    "            outfile.write('\\n')\n",
    "\n",
    "print(f\"All input files merged into {output_file}\")"
   ]
  },
  {
   "cell_type": "markdown",
   "id": "5a0fe259-61cb-48ad-aa64-feca90c6cf6a",
   "metadata": {},
   "source": [
    "# Final runfile (amazing)"
   ]
  },
  {
   "cell_type": "code",
   "execution_count": 167,
   "id": "880bae30-36f3-4338-bd1e-d031f07bcb3d",
   "metadata": {},
   "outputs": [
    {
     "name": "stdout",
     "output_type": "stream",
     "text": [
      "CONTROL 1 54321\n",
      "GTFILES  ./model/layer  ./time/layer P\n",
      "GTMODE GRID3D ANGLES_NO\n",
      "GT_PLFD  1.0e-3  0\n",
      "INCLUDE /projects/amt/lpapin/SVI/NLLoc/obs/stations_coords_svi.txt #LP\n",
      "LOCANGLES ANGLES_NO 5\n",
      "LOCCOM Bostock_Loc\n",
      "LOCFILES /projects/amt/lpapin/SVI/NLLoc/obs/LFE_cat_SVI.nlloc NLLOC_OBS /projects/amt/lpapin/SVI/NLLoc/time/layer /projects/amt/lpapin/SVI/NLLoc/loc/SVI_Bostock/family #LP\n",
      "LOCGAU 0.2 0.0\n",
      "LOCGAU2 0.01 0.05 2.0\n",
      "LOCGRID 221 291 189 -55.0 -72.5 -1.0 0.5 0.5 0.5 PROB_DENSITY SAVE #LP\n",
      "LOCHYPOUT SAVE_NLLOC_ALL SAVE_NLLOC_SUM SAVE_HYPOINV_SUM\n",
      "LOCMAG ML_HB 1.0 1.110 0.00189\n",
      "LOCMETH EDT_OT_WT 9999.0 4 -1 -1 -1 -1 -1 1\n",
      "LOCPHASEID  P   P p Pn Pg\n",
      "LOCPHASEID  S   S s Sn Sg\n",
      "LOCPHSTAT 9999.0 -1 9999.0 1.0 1.0 9999.9 -9999.9 9999.9\n",
      "LOCQUAL2ERR 0.1 0.5 1.0 2.0 99999.9\n",
      "LOCSEARCH  OCT 8 11 6 0.001 100000 10000 0 0 #Mine\n",
      "LOCSIG Lois Papin -- UO\n",
      "TRANS LAMBERT WGS-84 48.65 -123.75 48.0 49.3 0.0 #LP\n",
      "VGGRID 111 146 95 -55.0 -72.5 -1.0 1.0 1.0 1.0 SLOW_LEN #LP\n",
      "VGINP /projects/amt/lpapin/SVI/NLLoc/model/Savard_lcc_P.txt SIMUL2K 0 0 0 #LP\n",
      "VGOUT  ./model/layer\n",
      "VGTYPE P\n"
     ]
    }
   ],
   "source": [
    "# By alphabetical order to verify the command more easily\n",
    "with open(output_file, 'r') as file:\n",
    "    lines = file.readlines()\n",
    "    non_comment_lines = [line.strip() for line in lines if not line.strip().startswith('#') and line.strip()]\n",
    "    non_comment_lines_sorted = sorted(non_comment_lines)\n",
    "    for line in non_comment_lines_sorted:\n",
    "        print(line)"
   ]
  },
  {
   "cell_type": "markdown",
   "id": "a82e8064-f64c-47c1-b8b1-2cf22cfd7851",
   "metadata": {},
   "source": [
    "# Notes"
   ]
  },
  {
   "cell_type": "markdown",
   "id": "09ff23ce-eef1-41e6-9b87-1ea06b51068d",
   "metadata": {},
   "source": [
    "*Here's some notes on the location process:* \n",
    "\n",
    "What have been used:\n",
    "- Stations BH* and HH* from networks CN, C8, PO;\n",
    "- 3D Velocity Model from Savard for Vp and Vs on Southern Vancouver Island: the area has been shrunk to encompass the stations we are using for the locations;\n",
    "- Picks of Bostock families taken in Tim's NonLinLoc folder: 130 families from number 001 to 300 with P&S waves picks.\n",
    "\n",
    "What have been done:\n",
    "- Vel2Grid3d and Grid2Time on runfiles for both P&S waves to create the travel-time grids;\n",
    "- NLLoc on the P-wave runfile (works the same with S) with the PROB_DENSITY statistical quantity to compute (LOCGRID command), and the Octtree sampling algorithm (LOCSEARCH command).\n",
    "\n",
    "What we get:\n",
    "- Velocity grid and travel-time grid for the choosen stations;\n",
    "- Location files for each Bostock's families in a folder in different formats.\n",
    "\n",
    "What is next:\n",
    "- Adapt one of Tim's code to plot the results;\n",
    "- Modifying the searching algorithm parameters to see how different the locations are;\n",
    "- Use my picks on Bostock's families with the stacking detections to see if it helps or no;\n",
    "- Finally use SW4 with the locations (yes!!)."
   ]
  }
 ],
 "metadata": {
  "kernelspec": {
   "display_name": "Python 3 (ipykernel)",
   "language": "python",
   "name": "python3"
  },
  "language_info": {
   "codemirror_mode": {
    "name": "ipython",
    "version": 3
   },
   "file_extension": ".py",
   "mimetype": "text/x-python",
   "name": "python",
   "nbconvert_exporter": "python",
   "pygments_lexer": "ipython3",
   "version": "3.11.7"
  }
 },
 "nbformat": 4,
 "nbformat_minor": 5
}
