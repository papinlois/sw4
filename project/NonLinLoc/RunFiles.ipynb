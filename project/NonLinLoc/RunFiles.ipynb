{
 "cells": [
  {
   "cell_type": "markdown",
   "id": "ebcac22f-28d9-426f-9215-7fdc2d2b3670",
   "metadata": {},
   "source": [
    "# Description of the Notebook\n",
    "\n",
    "This notebook was made to modify templates of runfiles for the NonLinLoc software. \n",
    "\n",
    "Firstly, for the grid files you can use the Matching_VelModel notebook to create 2 .txt files that will be needed to modify the template of the runfile. It is adding the lines for 2 commands: VGGRID and LAYER. Secondly, it modifies the command lines for the runfile made for location of events. All the parameters needed can be entered here and the modifications will be made on the runfile."
   ]
  },
  {
   "cell_type": "code",
   "execution_count": 1,
   "id": "7d54b74f-551a-4d42-9dc3-5e18d3d1b6b3",
   "metadata": {},
   "outputs": [],
   "source": [
    "base_dir = '/Users/lpapin/Documents/phd/projects/sw4/nonlinloc/'"
   ]
  },
  {
   "cell_type": "markdown",
   "id": "8cc1c019-98cd-496a-9d66-2a77bab6390b",
   "metadata": {},
   "source": [
    "For now everything is in local but since NonLinLoc is on the cluster, let's try to keep a similar organization than the creator:\n",
    "\n",
    "- NLLoc as the main folder\n",
    "- NLLoc/model for the model grid\n",
    "- NLLoc/time for the travel-time grid\n",
    "- NLLoc/obs for the picks\n",
    "- NLLoc/run for the runfiles\n",
    "- NLLoc/loc for the locations\n",
    "\n",
    "NB: #LP is added to each line modified thanks to this notebook to remember which lines were the original ones."
   ]
  },
  {
   "cell_type": "markdown",
   "id": "6f1e39fc-2520-4c52-967b-12628b2dff35",
   "metadata": {},
   "source": [
    "# 1. Vel2Grid\n",
    "\n",
    "First we're modifying the line giving the grid description VGGRID for Vel2Grid. **CORRECTION:** For the SVI project, no need to use the usual commands to create the model grid. Instead, use of Loïc's notebooks to produce a SimulPS.txt file in /model. Still the cells below are correct for other projects."
   ]
  },
  {
   "cell_type": "code",
   "execution_count": 2,
   "id": "0f9176b6-a8cc-4639-a90d-fefd8d47820b",
   "metadata": {},
   "outputs": [
    {
     "name": "stdout",
     "output_type": "stream",
     "text": [
      "VGGRID line has been modified successfully.\n"
     ]
    }
   ],
   "source": [
    "# Read the original .run file\n",
    "with open(base_dir+'ttgrid_runfile_template.in', 'r') as file:\n",
    "    lines = file.readlines()\n",
    "\n",
    "# Read the second line directly from VGGRID_command.txt\n",
    "with open(base_dir+'VGGRID_command.txt', 'r') as file:\n",
    "    lines_to_add = file.readlines()\n",
    "    vggrid_command = lines_to_add[1].strip() \n",
    "\n",
    "# Find and replace the VGGRID line in the .run file\n",
    "for i, line in enumerate(lines):\n",
    "    if line.startswith('VGGRID'):\n",
    "        lines[i] = vggrid_command + ' #LP' + '\\n'\n",
    "        break\n",
    "\n",
    "# Write the modified content back to a new file (or overwrite the original)\n",
    "with open(base_dir+'ttgrid_runfile.in', 'w') as file:\n",
    "    file.writelines(line.rstrip() + '\\n' for line in lines)\n",
    "\n",
    "print(\"VGGRID line has been modified successfully.\")"
   ]
  },
  {
   "cell_type": "markdown",
   "id": "90bdd13c-3578-48e4-8b5c-c50048014214",
   "metadata": {},
   "source": [
    "Now we add the lines giving the velocity model layers."
   ]
  },
  {
   "cell_type": "code",
   "execution_count": 3,
   "id": "a9d8822f-d2b5-41a1-a1f2-dbb9d1e9f884",
   "metadata": {},
   "outputs": [
    {
     "name": "stdout",
     "output_type": "stream",
     "text": [
      "LAYER lines have been added successfully.\n"
     ]
    }
   ],
   "source": [
    "# Read the second line directly from LAYER_command.txt\n",
    "with open(base_dir+'LAYER_command.txt', 'r') as file:\n",
    "    layer_lines = [line.strip() for line in file.readlines()[2:]]\n",
    "layer_lines = [f\"{line} #LP\" for line in layer_lines]\n",
    "\n",
    "# Find the line to insert the LAYER commands in the .run file\n",
    "for i, line in enumerate(lines):\n",
    "    if line.startswith('#LAYER depth Vp_top Vp_grad Vs_top Vs_grad p_top p_grad'):\n",
    "        insertion_point = i + 1  # Insert after this line\n",
    "        break\n",
    "\n",
    "# Insert the LAYER lines at the specified point\n",
    "modified_lines = lines[:insertion_point] + layer_lines + lines[insertion_point:]\n",
    "\n",
    "# Write the modified content back to a new file (or overwrite the original)\n",
    "with open(base_dir+'ttgrid_runfile.in', 'w') as file:\n",
    "    file.writelines(line.rstrip() + '\\n' for line in modified_lines)\n",
    "\n",
    "print(\"LAYER lines have been added successfully.\")"
   ]
  },
  {
   "cell_type": "code",
   "execution_count": 4,
   "id": "ad0d8c83-94af-45de-aadb-416a33d5115b",
   "metadata": {},
   "outputs": [
    {
     "name": "stdout",
     "output_type": "stream",
     "text": [
      "VGOUT  ./model/layer\n",
      "VGTYPE P\n",
      "VGTYPE S\n",
      "VGGRID 30 26 32 -124.5 48.0 0.0 0.37 0.55 3.0 VELOCITY #LP\n",
      "LAYER 0.0 4.78 0 2.77 0 0 0 #LP\n",
      "LAYER 3.0 5.23 0 3.03 0 0 0 #LP\n",
      "LAYER 6.0 5.75 0 3.33 0 0 0 #LP\n",
      "LAYER 9.0 6.34 0 3.68 0 0 0 #LP\n",
      "LAYER 12.0 6.56 0 3.81 0 0 0 #LP\n",
      "LAYER 15.0 6.68 0 3.90 0 0 0 #LP\n",
      "LAYER 18.0 6.71 0 3.92 0 0 0 #LP\n",
      "LAYER 21.0 6.80 0 3.96 0 0 0 #LP\n",
      "LAYER 24.0 6.81 0 3.96 0 0 0 #LP\n",
      "LAYER 27.0 6.92 0 3.99 0 0 0 #LP\n",
      "LAYER 30.0 6.94 0 4.01 0 0 0 #LP\n",
      "LAYER 33.0 7.03 0 4.06 0 0 0 #LP\n",
      "LAYER 36.0 7.15 0 4.11 0 0 0 #LP\n",
      "LAYER 39.0 7.29 0 4.18 0 0 0 #LP\n",
      "LAYER 42.0 7.43 0 4.26 0 0 0 #LP\n",
      "LAYER 45.0 7.55 0 4.34 0 0 0 #LP\n",
      "LAYER 48.0 7.62 0 4.42 0 0 0 #LP\n",
      "LAYER 51.0 7.72 0 4.48 0 0 0 #LP\n",
      "LAYER 54.0 7.81 0 4.53 0 0 0 #LP\n",
      "LAYER 57.0 7.87 0 4.56 0 0 0 #LP\n",
      "LAYER 60.0 7.92 0 4.58 0 0 0 #LP\n",
      "LAYER 63.0 7.95 0 4.60 0 0 0 #LP\n",
      "LAYER 66.0 7.97 0 4.61 0 0 0 #LP\n",
      "LAYER 69.0 8.00 0 4.62 0 0 0 #LP\n",
      "LAYER 72.0 8.02 0 4.64 0 0 0 #LP\n",
      "LAYER 75.0 8.05 0 4.65 0 0 0 #LP\n",
      "LAYER 78.0 8.07 0 4.67 0 0 0 #LP\n",
      "LAYER 81.0 8.10 0 4.68 0 0 0 #LP\n",
      "LAYER 84.0 8.13 0 4.70 0 0 0 #LP\n",
      "LAYER 87.0 8.16 0 4.72 0 0 0 #LP\n",
      "LAYER 90.0 8.19 0 4.73 0 0 0 #LP\n",
      "LAYER 93.0 8.22 0 4.75 0 0 0 #LP\n",
      "GTFILES  ./model/layer  ./time/layer P\t  # uncomment to generate P travel times\n",
      "GTFILES  ./model/layer  ./time/layer S\t # uncomment to generate S travel times\n",
      "GTMODE GRID2D ANGLES_YES\n",
      "INCLUDE obs/station_coordinates.txt\t\t# include file with STSRCE statements, this line can be placed anywhere in control file\n",
      "GT_PLFD  1.0e-3  0\n"
     ]
    }
   ],
   "source": [
    "# What does it look like after modifying the .run file for the commands\n",
    "with open(base_dir+'ttgrid_runfile.in', 'r') as file:\n",
    "    lines = file.readlines()\n",
    "    non_comment_lines = [line.strip() for line in lines if not line.strip().startswith('#') and line.strip()]\n",
    "    for line in non_comment_lines:\n",
    "        print(line)"
   ]
  },
  {
   "cell_type": "markdown",
   "id": "d805c47e-6a31-487b-8531-ad01e6df47ef",
   "metadata": {},
   "source": [
    "**Now the input file to use Vel2Grid to create the model grid is ready.**\n",
    "\n",
    "*Note on 9/9*: it needs a last minute change for the output root file name VGOUT before launching."
   ]
  },
  {
   "cell_type": "markdown",
   "id": "90a6fb4a-557b-49c6-9bdf-fe678e0ef175",
   "metadata": {},
   "source": [
    "# 2. NLLoc\n",
    "\n",
    "I need to define the commands LOCFILES, LOCGRID, and TRANS SIMPLE. Not changing for now the LOCSEARCH command but it may be needed."
   ]
  },
  {
   "cell_type": "code",
   "execution_count": 5,
   "id": "03482e6e-085d-4c89-be5e-9f234e30be56",
   "metadata": {},
   "outputs": [
    {
     "name": "stdout",
     "output_type": "stream",
     "text": [
      "LOCFILES line has been modified successfully.\n"
     ]
    }
   ],
   "source": [
    "# Determine the filenames for LOCFILES\n",
    "input_filename_obs = '/projects/amt/shared/lpapin/NLLoc/SVI/obs/' # Picks\n",
    "input_filename_ttgrid = '/projects/amt/shared/lpapin/NLLoc/SVI/time/layer' # Travel-time grid\n",
    "output_filename_loc = '/projects/amt/shared/lpapin/NLLoc/SVI/loc/' # Location of the events\n",
    "\n",
    "# Read the original .run file\n",
    "with open(base_dir+'nlloc_runfile_template.in', 'r') as file:\n",
    "    lines = file.readlines()\n",
    "\n",
    "locfiles_command = 'LOCFILES ' + input_filename_obs + ' NLL_OBS ' + input_filename_ttgrid + ' ' + output_filename_loc\n",
    "# Find and replace the LOCFILES line in the .run file\n",
    "for i, line in enumerate(lines):\n",
    "    if line.startswith('LOCFILES'):\n",
    "        lines[i] = locfiles_command + ' #LP' + '\\n'\n",
    "        break\n",
    "\n",
    "# Write the modified content back to a new file (or overwrite the original)\n",
    "with open(base_dir+'nlloc_runfile.in', 'w') as file:\n",
    "    file.writelines(line.rstrip() + '\\n' for line in lines)\n",
    "\n",
    "print(\"LOCFILES line has been modified successfully.\")"
   ]
  },
  {
   "cell_type": "code",
   "execution_count": 6,
   "id": "7abdb41f-d7f4-474e-83a5-c1f5e7546e71",
   "metadata": {},
   "outputs": [
    {
     "name": "stdout",
     "output_type": "stream",
     "text": [
      "LOCGRID line has been modified successfully.\n"
     ]
    }
   ],
   "source": [
    "# Determine the command line for LOCGRID\n",
    "locgrid_command = 'LOCGRID ' + vggrid_command[7:-8] + 'PROB_DENSITY SAVE'\n",
    "for i, line in enumerate(lines):\n",
    "    if line.startswith('LOCGRID') and line.strip().endswith('PROB_DENSITY  SAVE'):\n",
    "        lines[i] = locgrid_command + ' #LP' + '\\n'\n",
    "        break\n",
    "\n",
    "with open(base_dir+'nlloc_runfile.in', 'w') as file:\n",
    "    file.writelines(line.rstrip() + '\\n' for line in lines)\n",
    "    \n",
    "print(\"LOCGRID line has been modified successfully.\")"
   ]
  },
  {
   "cell_type": "code",
   "execution_count": 7,
   "id": "200caad4-5047-46e3-ac35-92f1ba06b2b8",
   "metadata": {},
   "outputs": [
    {
     "name": "stdout",
     "output_type": "stream",
     "text": [
      "TRANS SIMPLE line has been modified successfully.\n"
     ]
    }
   ],
   "source": [
    "# Get the origins of the rectangle\n",
    "parameters = vggrid_command.split()\n",
    "latOrig = parameters[5]\n",
    "longOrig = parameters[4]\n",
    "rotAngle = 0.0\n",
    "\n",
    "# Determine the command line for TRANS SIMPLE\n",
    "transsimple_command = 'TRANS SIMPLE ' + f'{latOrig} ' + f'{longOrig} ' + f'{rotAngle}' \n",
    "for i, line in enumerate(lines):\n",
    "    if line.startswith('TRANS SIMPLE '):\n",
    "        lines[i] = transsimple_command + ' #LP' + '\\n'\n",
    "        break\n",
    "\n",
    "with open(base_dir+'nlloc_runfile.in', 'w') as file:\n",
    "    file.writelines(line.rstrip() + '\\n' for line in lines)\n",
    "\n",
    "print(\"TRANS SIMPLE line has been modified successfully.\")"
   ]
  },
  {
   "cell_type": "code",
   "execution_count": 8,
   "id": "8d6e4b88-5bed-41fb-be48-388e6fbec3a3",
   "metadata": {},
   "outputs": [
    {
     "name": "stdout",
     "output_type": "stream",
     "text": [
      "CONTROL 1 12345\n",
      "TRANS SIMPLE 48.0 -124.5 0.0 #LP\n",
      "LOCSIG Lois Papin -- UO\n",
      "LOCFILES /projects/amt/shared/lpapin/NLLoc/SVI/obs/ NLL_OBS /projects/amt/shared/lpapin/NLLoc/SVI/time/layer /projects/amt/shared/lpapin/NLLoc/SVI/loc/ #LP\n",
      "LOCHYPOUT SAVE_NLLOC_ALL SAVE_HYPOINV_SUM\n",
      "LOCSEARCH OCT 17 11 6 0.001 100000 10000 0 0\n",
      "LOCMETH EDT_OT_WT 9999.0 4 -1 -1 -1 -1 -1 1\n",
      "LOCGAU 0.2 0.0\n",
      "LOCGAU2 0.01 0.05 2.0\n",
      "LOCPHASEID  P   P\n",
      "LOCPHASEID  S   S\n",
      "LOCQUAL2ERR 0.1 0.5 1.0 2.0 99999.9\n",
      "LOCGRID 30 26 32 -124.5 48.0 0.0 0.37 0.55 3.0 PROB_DENSITY SAVE #LP\n",
      "LOCPHSTAT 9999.0 -1 9999.0 1.0 1.0 9999.9 -9999.9 9999.9\n",
      "LOCANGLES ANGLES_YES 5\n",
      "LOCMAG ML_HB 1.0 1.110 0.00189\n"
     ]
    }
   ],
   "source": [
    "# What does it look like after modifying the .run file for the commands\n",
    "with open(base_dir+'nlloc_runfile.in', 'r') as file:\n",
    "    lines = file.readlines()\n",
    "    non_comment_lines = [line.strip() for line in lines if not line.strip().startswith('#') and line.strip()]\n",
    "    for line in non_comment_lines:\n",
    "        print(line)"
   ]
  },
  {
   "cell_type": "markdown",
   "id": "35b36975-c70c-4aea-b0a0-b118a05738b2",
   "metadata": {},
   "source": [
    "# Left to do\n",
    "Verify what's need to be modified for Grid2Time and change accordingly the filenames and commands."
   ]
  }
 ],
 "metadata": {
  "kernelspec": {
   "display_name": "Python 3 (ipykernel)",
   "language": "python",
   "name": "python3"
  },
  "language_info": {
   "codemirror_mode": {
    "name": "ipython",
    "version": 3
   },
   "file_extension": ".py",
   "mimetype": "text/x-python",
   "name": "python",
   "nbconvert_exporter": "python",
   "pygments_lexer": "ipython3",
   "version": "3.11.7"
  }
 },
 "nbformat": 4,
 "nbformat_minor": 5
}
