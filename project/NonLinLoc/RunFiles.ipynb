{
 "cells": [
  {
   "cell_type": "markdown",
   "id": "ebcac22f-28d9-426f-9215-7fdc2d2b3670",
   "metadata": {},
   "source": [
    "# Description of the Notebook\n",
    "\n",
    "This notebook was made to modify templates of runfiles for the NonLinLoc software. \n",
    "\n",
    "Firstly, for the grids files you can use the Matching_VelModel notebook to create 2 txt files that will be needed to modify the template of the runfile. It is adding the lines for 2 commands: VGGRID and LAYER. Secondly, it modifies the command lines for the runfile made for location of events. All the parameters needed can be entered here and the modifications will be made on the runfile."
   ]
  },
  {
   "cell_type": "code",
   "execution_count": 1,
   "id": "7d54b74f-551a-4d42-9dc3-5e18d3d1b6b3",
   "metadata": {},
   "outputs": [],
   "source": [
    "base_dir = '/Users/lpapin/Documents/phd/projects/sw4/nonlinloc/'"
   ]
  },
  {
   "cell_type": "markdown",
   "id": "8cc1c019-98cd-496a-9d66-2a77bab6390b",
   "metadata": {},
   "source": [
    "For now everything is in local but since NonLinLoc is on the cluster, let's try to keep a similar organization than the creator:\n",
    "\n",
    "- NLLoc as the main folder\n",
    "- NLLoc/model for the model grid\n",
    "- NLLoc/time for the travel-time\n",
    "- NLLoc/obs for the picks\n",
    "- NLLoc/run for the runfiles\n",
    "- NLLoc/run for the locations\n",
    "\n",
    "NB: #LP is added to each line modified thanks to this notebook to remember which lines were the original ones."
   ]
  },
  {
   "cell_type": "markdown",
   "id": "6f1e39fc-2520-4c52-967b-12628b2dff35",
   "metadata": {},
   "source": [
    "# 1. Vel2Grid + Grid2Time (if no grid files)\n",
    "\n",
    "First we're modifying the line giving the grid description VGGRID for Vel2Grid."
   ]
  },
  {
   "cell_type": "code",
   "execution_count": 2,
   "id": "0f9176b6-a8cc-4639-a90d-fefd8d47820b",
   "metadata": {},
   "outputs": [
    {
     "name": "stdout",
     "output_type": "stream",
     "text": [
      "VGGRID line has been modified successfully.\n"
     ]
    }
   ],
   "source": [
    "# Read the original .run file\n",
    "with open(base_dir+'grids_runfile_template.in', 'r') as file:\n",
    "    lines = file.readlines()\n",
    "\n",
    "# Read the second line directly from VGGRID_command.txt\n",
    "with open(base_dir+'VGGRID_command.txt', 'r') as file:\n",
    "    lines_to_add = file.readlines()\n",
    "    vggrid_command = lines_to_add[1].strip() \n",
    "\n",
    "# Find and replace the VGGRID line in the .run file\n",
    "for i, line in enumerate(lines):\n",
    "    if line.startswith('VGGRID'):\n",
    "        lines[i] = vggrid_command + ' #LP' + '\\n'\n",
    "        break\n",
    "\n",
    "# Write the modified content back to a new file (or overwrite the original)\n",
    "with open(base_dir+'grids_runfile.in', 'w') as file:\n",
    "    file.writelines(line.rstrip() + '\\n' for line in lines)\n",
    "\n",
    "print(\"VGGRID line has been modified successfully.\")"
   ]
  },
  {
   "cell_type": "markdown",
   "id": "90bdd13c-3578-48e4-8b5c-c50048014214",
   "metadata": {},
   "source": [
    "Now we add the lines giving the velocity model layers."
   ]
  },
  {
   "cell_type": "code",
   "execution_count": 3,
   "id": "a9d8822f-d2b5-41a1-a1f2-dbb9d1e9f884",
   "metadata": {},
   "outputs": [
    {
     "name": "stdout",
     "output_type": "stream",
     "text": [
      "LAYER lines have been added successfully.\n"
     ]
    }
   ],
   "source": [
    "# Read the second line directly from LAYER_command.txt\n",
    "with open(base_dir+'LAYER_command.txt', 'r') as file:\n",
    "    layer_lines = [line.strip() for line in file.readlines()[2:]]\n",
    "layer_lines = [f\"{line} #LP\" for line in layer_lines]\n",
    "\n",
    "# Find the line where you want to insert the LAYER commands in the .run file\n",
    "for i, line in enumerate(lines):\n",
    "    if line.startswith('#LAYER depth Vp_top Vp_grad Vs_top Vs_grad p_top p_grad'):\n",
    "        insertion_point = i + 1  # Insert after this line\n",
    "        break\n",
    "\n",
    "# Insert the LAYER lines at the specified point\n",
    "modified_lines = lines[:insertion_point] + layer_lines + lines[insertion_point:]\n",
    "\n",
    "# Write the modified content back to a new file (or overwrite the original)\n",
    "with open(base_dir+'grids_runfile.in', 'w') as file:\n",
    "    file.writelines(line.rstrip() + '\\n' for line in modified_lines)\n",
    "\n",
    "print(\"LAYER lines have been added successfully.\")"
   ]
  },
  {
   "cell_type": "code",
   "execution_count": 4,
   "id": "ad0d8c83-94af-45de-aadb-416a33d5115b",
   "metadata": {},
   "outputs": [
    {
     "name": "stdout",
     "output_type": "stream",
     "text": [
      "VGOUT  ./model/layer\n",
      "VGTYPE P\n",
      "VGTYPE S\n",
      "VGGRID 30 26 32 -124.5 48.0 0.0 0.37 0.55 3.0 VELOCITY #LP\n",
      "LAYER 0.0 4.78 0 2.77 0 0 0 #LP\n",
      "LAYER 3.0 5.23 0 3.03 0 0 0 #LP\n",
      "LAYER 6.0 5.75 0 3.33 0 0 0 #LP\n",
      "LAYER 9.0 6.34 0 3.68 0 0 0 #LP\n",
      "LAYER 12.0 6.56 0 3.81 0 0 0 #LP\n",
      "LAYER 15.0 6.68 0 3.90 0 0 0 #LP\n",
      "LAYER 18.0 6.71 0 3.92 0 0 0 #LP\n",
      "LAYER 21.0 6.80 0 3.96 0 0 0 #LP\n",
      "LAYER 24.0 6.81 0 3.96 0 0 0 #LP\n",
      "LAYER 27.0 6.92 0 3.99 0 0 0 #LP\n",
      "LAYER 30.0 6.94 0 4.01 0 0 0 #LP\n",
      "LAYER 33.0 7.03 0 4.06 0 0 0 #LP\n",
      "LAYER 36.0 7.15 0 4.11 0 0 0 #LP\n",
      "LAYER 39.0 7.29 0 4.18 0 0 0 #LP\n",
      "LAYER 42.0 7.43 0 4.26 0 0 0 #LP\n",
      "LAYER 45.0 7.55 0 4.34 0 0 0 #LP\n",
      "LAYER 48.0 7.62 0 4.42 0 0 0 #LP\n",
      "LAYER 51.0 7.72 0 4.48 0 0 0 #LP\n",
      "LAYER 54.0 7.81 0 4.53 0 0 0 #LP\n",
      "LAYER 57.0 7.87 0 4.56 0 0 0 #LP\n",
      "LAYER 60.0 7.92 0 4.58 0 0 0 #LP\n",
      "LAYER 63.0 7.95 0 4.60 0 0 0 #LP\n",
      "LAYER 66.0 7.97 0 4.61 0 0 0 #LP\n",
      "LAYER 69.0 8.00 0 4.62 0 0 0 #LP\n",
      "LAYER 72.0 8.02 0 4.64 0 0 0 #LP\n",
      "LAYER 75.0 8.05 0 4.65 0 0 0 #LP\n",
      "LAYER 78.0 8.07 0 4.67 0 0 0 #LP\n",
      "LAYER 81.0 8.10 0 4.68 0 0 0 #LP\n",
      "LAYER 84.0 8.13 0 4.70 0 0 0 #LP\n",
      "LAYER 87.0 8.16 0 4.72 0 0 0 #LP\n",
      "LAYER 90.0 8.19 0 4.73 0 0 0 #LP\n",
      "LAYER 93.0 8.22 0 4.75 0 0 0 #LP\n"
     ]
    }
   ],
   "source": [
    "# What does it look like after modifying the .run file for the commands\n",
    "with open(base_dir+'grids_runfile.in', 'r') as file:\n",
    "    lines = file.readlines()\n",
    "    non_comment_lines = [line.strip() for line in lines if not line.strip().startswith('#') and line.strip()]\n",
    "    for line in non_comment_lines:\n",
    "        print(line)"
   ]
  },
  {
   "cell_type": "markdown",
   "id": "d805c47e-6a31-487b-8531-ad01e6df47ef",
   "metadata": {},
   "source": [
    "**Now the input file to use Vel2Grid and Grid2Time to create grid files is ready.**\n",
    "\n",
    "*Note on 9/9*: it needs a last minute change for the output root file name VGOUT before launching."
   ]
  },
  {
   "cell_type": "markdown",
   "id": "90a6fb4a-557b-49c6-9bdf-fe678e0ef175",
   "metadata": {},
   "source": [
    "# 2. NLLOC"
   ]
  },
  {
   "cell_type": "code",
   "execution_count": 5,
   "id": "03482e6e-085d-4c89-be5e-9f234e30be56",
   "metadata": {},
   "outputs": [],
   "source": [
    "# Determine the filenames for LOCFILES\n",
    "obs_filename = '/projects/amt/shared/lpapin/NLLoc/SVI/obs/' # Picks\n",
    "grids_filename = '/projects/amt/shared/lpapin/NLLoc/SVI/grids/' # Grids"
   ]
  },
  {
   "cell_type": "code",
   "execution_count": null,
   "id": "c490da4f-e5f1-4a87-be88-384b080d536e",
   "metadata": {},
   "outputs": [],
   "source": []
  }
 ],
 "metadata": {
  "kernelspec": {
   "display_name": "Python 3 (ipykernel)",
   "language": "python",
   "name": "python3"
  },
  "language_info": {
   "codemirror_mode": {
    "name": "ipython",
    "version": 3
   },
   "file_extension": ".py",
   "mimetype": "text/x-python",
   "name": "python",
   "nbconvert_exporter": "python",
   "pygments_lexer": "ipython3",
   "version": "3.11.7"
  }
 },
 "nbformat": 4,
 "nbformat_minor": 5
}
