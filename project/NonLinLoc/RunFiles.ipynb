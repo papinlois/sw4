{
 "cells": [
  {
   "cell_type": "markdown",
   "id": "ebcac22f-28d9-426f-9215-7fdc2d2b3670",
   "metadata": {},
   "source": [
    "# Runfiles for NonLinLoc: Steps Vel2Grid + Grid2Time + NLLoc\n",
    "\n",
    "This notebook was made to modify templates of runfiles for the NonLinLoc software. \n",
    "\n",
    "Firstly, for the grid files you can use the Matching_VelModel notebook to create 2 .txt files that will be needed to modify the template of the runfile. It's made to add the lines for 2 commands: VGGRID and LAYER. <br> Secondly, it modifies the command lines for the runfile made for location of events with NLLoc. All the parameters needed can be entered here and the modifications will be made on the template."
   ]
  },
  {
   "cell_type": "code",
   "execution_count": 1,
   "id": "7d54b74f-551a-4d42-9dc3-5e18d3d1b6b3",
   "metadata": {},
   "outputs": [],
   "source": [
    "base_dir = '/Users/lpapin/Documents/phd/projects/sw4/nonlinloc/'"
   ]
  },
  {
   "cell_type": "markdown",
   "id": "8cc1c019-98cd-496a-9d66-2a77bab6390b",
   "metadata": {},
   "source": [
    "For now everything is in local but since NonLinLoc is on the cluster, let's try to keep a similar organization than the creator:\n",
    "\n",
    "- NLLoc as the main folder\n",
    "- NLLoc/model for the model grid\n",
    "- NLLoc/time for the travel-time grid\n",
    "- NLLoc/obs for the picks\n",
    "- NLLoc/run for the runfiles\n",
    "- NLLoc/loc for the locations\n",
    "\n",
    "NB: #LP is added to each line modified thanks to this notebook to remember which lines were the original ones."
   ]
  },
  {
   "cell_type": "markdown",
   "id": "166cf9cd-ec03-4bf8-ba07-debc2c8e2e21",
   "metadata": {},
   "source": [
    "# 1. Travel-time grids\n",
    "\n",
    "Vel2Grid and Vel2Grid3D have slightly different input. They have common commands but the first one use LAYER while the second one has VGINP and VGCLIP. "
   ]
  },
  {
   "cell_type": "code",
   "execution_count": 2,
   "id": "4e1a79bc-3fad-42bc-a26f-f85504c29367",
   "metadata": {},
   "outputs": [],
   "source": [
    "# Precise here which one is used to run the notebook entirely\n",
    "which = 'vel2grid3d' # 'vel2grid"
   ]
  },
  {
   "cell_type": "markdown",
   "id": "a04ab27c-bf9a-4aac-94fb-3ddb293775da",
   "metadata": {},
   "source": [
    "## Vel2Grid\n",
    "\n",
    "*Given a velocity model description, Vel2Grid generates a 3D model Grid header and buffer files containing velocities, slownesses or other model specification.*\n",
    "\n",
    "First we're modifying the line giving the grid description VGGRID for Vel2Grid."
   ]
  },
  {
   "cell_type": "code",
   "execution_count": 3,
   "id": "0f9176b6-a8cc-4639-a90d-fefd8d47820b",
   "metadata": {},
   "outputs": [
    {
     "name": "stdout",
     "output_type": "stream",
     "text": [
      "VGGRID line has been modified successfully.\n"
     ]
    }
   ],
   "source": [
    "# Read the original .run file\n",
    "with open(base_dir+'ttgrid_runfile_template.in', 'r') as file:\n",
    "    lines = file.readlines()\n",
    "\n",
    "# Read the second line directly from VGGRID_command.txt\n",
    "with open(base_dir+'VGGRID_command.txt', 'r') as file:\n",
    "    lines_to_add = file.readlines()\n",
    "    vggrid_command = lines_to_add[1].strip() \n",
    "\n",
    "# Find and replace the VGGRID line in the .run file\n",
    "for i, line in enumerate(lines):\n",
    "    if line.startswith('VGGRID'):\n",
    "        lines[i] = vggrid_command + ' #LP' + '\\n'\n",
    "        break\n",
    "\n",
    "# Write the modified content back to a new file (or overwrite the original)\n",
    "with open(base_dir+'ttgrid_runfile_final.in', 'w') as file:\n",
    "    file.writelines(line.rstrip() + '\\n' for line in lines)\n",
    "\n",
    "print('VGGRID line has been modified successfully.')"
   ]
  },
  {
   "cell_type": "markdown",
   "id": "90bdd13c-3578-48e4-8b5c-c50048014214",
   "metadata": {},
   "source": [
    "Now we add the lines giving the velocity model layers. It is used for a type of model where the velocites don't change with lat and lon (hence the correction for the SVI project)."
   ]
  },
  {
   "cell_type": "code",
   "execution_count": 4,
   "id": "a9d8822f-d2b5-41a1-a1f2-dbb9d1e9f884",
   "metadata": {},
   "outputs": [
    {
     "name": "stdout",
     "output_type": "stream",
     "text": [
      "No LAYER lines added; Vel2Grid3D has been choosen\n"
     ]
    }
   ],
   "source": [
    "if which=='vel2grid':\n",
    "    # Read the second line directly from LAYER_command.txt\n",
    "    with open(base_dir+'LAYER_command.txt', 'r') as file:\n",
    "        layer_lines = [line.strip() for line in file.readlines()[2:]]\n",
    "    layer_lines = [f'{line} #LP' for line in layer_lines]\n",
    "    \n",
    "    # Find the line to insert the LAYER commands in the .run file\n",
    "    for i, line in enumerate(lines):\n",
    "        if line.startswith('#LAYER depth Vp_top Vp_grad Vs_top Vs_grad p_top p_grad'):\n",
    "            insertion_point = i + 1  # Insert after this line\n",
    "            break\n",
    "    \n",
    "    # Insert the LAYER lines at the specified point\n",
    "    modified_lines = lines[:insertion_point] + layer_lines + lines[insertion_point:]\n",
    "    \n",
    "    # Write the modified content back to a new file (or overwrite the original)\n",
    "    with open(base_dir+'ttgrid_runfile_final.in', 'w') as file:\n",
    "        file.writelines(line.rstrip() + '\\n' for line in modified_lines)\n",
    "    \n",
    "    print('LAYER lines have been added successfully.')\n",
    "else:\n",
    "    print('No LAYER lines added; Vel2Grid3D has been choosen')"
   ]
  },
  {
   "cell_type": "markdown",
   "id": "4f7769f7-55df-4e0c-a2ad-f6fa6d9daba9",
   "metadata": {},
   "source": [
    "## Vel2Grid3D\n",
    "\n",
    "*Given an existing 3D velocity model defined by interpolation between control point nodes and created by velocity inversion programs such as SimulPS, Simul2000 and FDTomo to a 3D model grid. (outputs a 3D Grid) , Vel2Grid3D generates a 3D model Grid header and buffer files containing velocities, slownesses or other model specification.*\n",
    "\n",
    "This is the part used for SVI, using SimulPS_Vel2Grid notebook to create the files."
   ]
  },
  {
   "cell_type": "code",
   "execution_count": 5,
   "id": "ec045d61-0201-4ce8-99f0-4c7379654ebe",
   "metadata": {},
   "outputs": [
    {
     "name": "stdout",
     "output_type": "stream",
     "text": [
      "VGINP line has been modified successfully.\n"
     ]
    }
   ],
   "source": [
    "if which=='vel2grid3d':\n",
    "    # Determine the filename for the SimulPS\n",
    "    input_filename_simulPS = '/projects/amt/shared/lpapin/NLLoc/SVI/model/' # Location of the events\n",
    "    \n",
    "    # Read the original .run file\n",
    "    with open(base_dir+'ttgrid_runfile_final.in', 'r') as file:\n",
    "        lines = file.readlines()\n",
    "    \n",
    "    vginp_command = 'VGINP ' + input_filename_simulPS# + ' SIMUL2K ' ###not sure if something is missing\n",
    "    # Find and replace the VGINP line in the .run file\n",
    "    for i, line in enumerate(lines):\n",
    "        if line.startswith('#VGINP'):\n",
    "            lines[i] = vginp_command + ' #LP' + '\\n'\n",
    "            break\n",
    "    \n",
    "    # Write the modified content back to a new file (or overwrite the original)\n",
    "    with open(base_dir+'ttgrid_runfile_final.in', 'w') as file:\n",
    "        file.writelines(line.rstrip() + '\\n' for line in lines)\n",
    "    \n",
    "    print('VGINP line has been modified successfully.')\n",
    "else:\n",
    "    print('No VGINP line added; Vel2Grid has been choosen')"
   ]
  },
  {
   "cell_type": "markdown",
   "id": "b492c77c-523f-422f-9b78-8c4e001f44db",
   "metadata": {},
   "source": [
    "## Grid2Time\n",
    "\n",
    "*Given a velocity model grid, Grid2Time calculates the travel-time from a source point in a 3D grid to all other points in the grid. Optionally, the program also estimates the take-off angles for rays from each point in the grid to the source.*\n",
    "\n",
    "The only line that needs to be modified is the one giving the coordinates of the stations that will be used for the locations. The INCLUDE line seems to be replacing the GTSOURCE lines."
   ]
  },
  {
   "cell_type": "code",
   "execution_count": 6,
   "id": "f95a0183-76a2-4727-b2e5-ca467130876b",
   "metadata": {},
   "outputs": [
    {
     "name": "stdout",
     "output_type": "stream",
     "text": [
      "INCLUDE line has been added successfully.\n"
     ]
    }
   ],
   "source": [
    "# Determine the .txt file for station coordinates\n",
    "input_filename_stas = base_dir + 'stations_coords_svi.txt'\n",
    "\n",
    "include_command = 'INCLUDE ' + input_filename_stas\n",
    "# Find and replace the INCLUDE line in the .run file\n",
    "for i, line in enumerate(lines):\n",
    "    if line.startswith('INCLUDE'):\n",
    "        lines[i] = include_command + ' #LP' + '\\n'\n",
    "        break\n",
    "\n",
    "# Write the modified content back to a new file (or overwrite the original)\n",
    "with open(base_dir+'ttgrid_runfile_final.in', 'w') as file:\n",
    "    file.writelines(line.rstrip() + '\\n' for line in lines)\n",
    "\n",
    "print('INCLUDE line has been added successfully.')"
   ]
  },
  {
   "cell_type": "markdown",
   "id": "95b49e1e-fd00-4acf-99a7-bf2b48cb9bb4",
   "metadata": {},
   "source": [
    "## Runfile resulting\n",
    "\n",
    "Just for clarity, the lines based on the type of Vel2Grid we are not using are removed. Then all lines for travel-time grid and location are merge into 1 runfile that will be use as input file for all the software."
   ]
  },
  {
   "cell_type": "code",
   "execution_count": 7,
   "id": "31683ac6-3119-44c8-8005-9b6dc460e85e",
   "metadata": {},
   "outputs": [
    {
     "name": "stdout",
     "output_type": "stream",
     "text": [
      "Vel2Grid3D block removed from ttgrid_runfile_final.in.\n"
     ]
    }
   ],
   "source": [
    "# Determine the filename \n",
    "input_file = 'ttgrid_runfile_final.in'\n",
    "with open(input_file, 'r') as infile:\n",
    "    lines = infile.readlines()\n",
    "\n",
    "# Keep the text without 1 of the block\n",
    "modified_lines = []\n",
    "inside_block = False\n",
    "if which == 'vel2grid':\n",
    "    for line in lines:\n",
    "        if line.strip() == '## START -- Vel2Grid':\n",
    "            inside_block = True  # Start removing lines\n",
    "            continue\n",
    "        if line.strip() == '## END -- Vel2Grid':\n",
    "            inside_block = False  # Stop removing lines\n",
    "            continue\n",
    "        # Only keep the lines if we're not inside the block\n",
    "        if not inside_block:\n",
    "            modified_lines.append(line)\n",
    "    with open(input_file, 'w') as outfile:\n",
    "        outfile.writelines(modified_lines)\n",
    "    print(f\"Vel2Grid block removed from {input_file}.\")\n",
    "elif which == 'vel2grid3d':\n",
    "    for line in lines:\n",
    "        if line.strip() == '## START -- Vel2Grid3D':\n",
    "            inside_block = True  # Start removing lines\n",
    "            continue\n",
    "        if line.strip() == '## END -- Vel2Grid3D':\n",
    "            inside_block = False  # Stop removing lines\n",
    "            continue\n",
    "        # Only keep the lines if we're not inside the block\n",
    "        if not inside_block:\n",
    "            modified_lines.append(line)\n",
    "    with open(input_file, 'w') as outfile:\n",
    "        outfile.writelines(modified_lines)\n",
    "    print(f\"Vel2Grid3D block removed from {input_file}.\")"
   ]
  },
  {
   "cell_type": "code",
   "execution_count": 8,
   "id": "ad0d8c83-94af-45de-aadb-416a33d5115b",
   "metadata": {},
   "outputs": [
    {
     "name": "stdout",
     "output_type": "stream",
     "text": [
      "CONTROL 1 54321\n",
      "TRANS SIMPLE 48.0 -124.5 0.0\n",
      "VGOUT  ./model/layer\n",
      "VGTYPE P\n",
      "VGTYPE S\n",
      "VGGRID 30 26 32 -124.5 48.0 0.0 0.37 0.55 3.0 VELOCITY #LP\n",
      "GTFILES  ./model/layer  ./time/layer P\n",
      "GTFILES  ./model/layer  ./time/layer S\n",
      "GTMODE GRID2D ANGLES_YES\n",
      "INCLUDE /Users/lpapin/Documents/phd/projects/sw4/nonlinloc/stations_coords_svi.txt #LP\n",
      "GT_PLFD  1.0e-3  0\n"
     ]
    }
   ],
   "source": [
    "# What does it look like after modifying the .run file for the commands\n",
    "with open(base_dir+'ttgrid_runfile_final.in', 'r') as file:\n",
    "    lines = file.readlines()\n",
    "    non_comment_lines = [line.strip() for line in lines if not line.strip().startswith('#') and line.strip()]\n",
    "    for line in non_comment_lines:\n",
    "        print(line)"
   ]
  },
  {
   "cell_type": "markdown",
   "id": "d805c47e-6a31-487b-8531-ad01e6df47ef",
   "metadata": {},
   "source": [
    "**Now the input file to use Vel2Grid and Grid2Time to create the travel times is ready.**"
   ]
  },
  {
   "cell_type": "markdown",
   "id": "9e1f0665-3b42-4ca2-9e39-84f781dfd801",
   "metadata": {},
   "source": [
    "# 2. Location of events"
   ]
  },
  {
   "cell_type": "markdown",
   "id": "254399f4-83e8-4794-88c1-1e9455191fa2",
   "metadata": {},
   "source": [
    "## NLLoc\n",
    "\n",
    "*NLLoc performs earthquake locations in 3D models using non-linear search techniques.*\n",
    "\n",
    "I need to define the commands LOCFILES, LOCGRID, and TRANS SIMPLE. Not changing for now the LOCSEARCH command but it may be needed."
   ]
  },
  {
   "cell_type": "code",
   "execution_count": 9,
   "id": "03482e6e-085d-4c89-be5e-9f234e30be56",
   "metadata": {},
   "outputs": [
    {
     "name": "stdout",
     "output_type": "stream",
     "text": [
      "LOCFILES line has been modified successfully.\n"
     ]
    }
   ],
   "source": [
    "# Determine the filenames for LOCFILES\n",
    "input_filename_obs = '/projects/amt/shared/lpapin/NLLoc/SVI/obs/' # Picks\n",
    "input_filename_ttgrid = '/projects/amt/shared/lpapin/NLLoc/SVI/time/layer' # Travel-time grid\n",
    "output_filename_loc = '/projects/amt/shared/lpapin/NLLoc/SVI/loc/' # Location of the events\n",
    "\n",
    "# Read the original .run file\n",
    "with open(base_dir+'nlloc_runfile_template.in', 'r') as file:\n",
    "    lines = file.readlines()\n",
    "\n",
    "locfiles_command = 'LOCFILES ' + input_filename_obs + ' NLL_OBS ' + input_filename_ttgrid + ' ' + output_filename_loc\n",
    "# Find and replace the LOCFILES line in the .run file\n",
    "for i, line in enumerate(lines):\n",
    "    if line.startswith('LOCFILES'):\n",
    "        lines[i] = locfiles_command + ' #LP' + '\\n'\n",
    "        break\n",
    "\n",
    "# Write the modified content back to a new file (or overwrite the original)\n",
    "with open(base_dir+'nlloc_runfile_final.in', 'w') as file:\n",
    "    file.writelines(line.rstrip() + '\\n' for line in lines)\n",
    "\n",
    "print('LOCFILES line has been modified successfully.')"
   ]
  },
  {
   "cell_type": "code",
   "execution_count": 10,
   "id": "7abdb41f-d7f4-474e-83a5-c1f5e7546e71",
   "metadata": {},
   "outputs": [
    {
     "name": "stdout",
     "output_type": "stream",
     "text": [
      "LOCGRID line has been modified successfully.\n"
     ]
    }
   ],
   "source": [
    "# Determine the command line for LOCGRID and replace\n",
    "locgrid_command = 'LOCGRID ' + vggrid_command[7:-8] + 'PROB_DENSITY SAVE'\n",
    "for i, line in enumerate(lines):\n",
    "    if line.startswith('LOCGRID') and line.strip().endswith('PROB_DENSITY  SAVE'):\n",
    "        lines[i] = locgrid_command + ' #LP' + '\\n'\n",
    "        break\n",
    "\n",
    "with open(base_dir+'nlloc_runfile_final.in', 'w') as file:\n",
    "    file.writelines(line.rstrip() + '\\n' for line in lines)\n",
    "    \n",
    "print('LOCGRID line has been modified successfully.')"
   ]
  },
  {
   "cell_type": "code",
   "execution_count": 11,
   "id": "200caad4-5047-46e3-ac35-92f1ba06b2b8",
   "metadata": {},
   "outputs": [
    {
     "name": "stdout",
     "output_type": "stream",
     "text": [
      "TRANS SIMPLE line has been modified successfully.\n"
     ]
    }
   ],
   "source": [
    "# Get the origins of the rectangle\n",
    "parameters = vggrid_command.split()\n",
    "latOrig = parameters[5]\n",
    "longOrig = parameters[4]\n",
    "rotAngle = 0.0\n",
    "\n",
    "# Determine the command line for TRANS SIMPLE and replace\n",
    "transsimple_command = 'TRANS SIMPLE ' + f'{latOrig} ' + f'{longOrig} ' + f'{rotAngle}' \n",
    "for i, line in enumerate(lines):\n",
    "    if line.startswith('TRANS SIMPLE '):\n",
    "        lines[i] = transsimple_command + ' #LP' + '\\n'\n",
    "        break\n",
    "\n",
    "with open(base_dir+'nlloc_runfile_final.in', 'w') as file:\n",
    "    file.writelines(line.rstrip() + '\\n' for line in lines)\n",
    "\n",
    "print('TRANS SIMPLE line has been modified successfully.')"
   ]
  },
  {
   "cell_type": "markdown",
   "id": "e3349f93-6a53-4a18-9604-7db6dbcf9a70",
   "metadata": {},
   "source": [
    "## Runfile resulting"
   ]
  },
  {
   "cell_type": "code",
   "execution_count": 12,
   "id": "8d6e4b88-5bed-41fb-be48-388e6fbec3a3",
   "metadata": {},
   "outputs": [
    {
     "name": "stdout",
     "output_type": "stream",
     "text": [
      "LOCSIG Lois Papin -- UO\n",
      "LOCFILES /projects/amt/shared/lpapin/NLLoc/SVI/obs/ NLL_OBS /projects/amt/shared/lpapin/NLLoc/SVI/time/layer /projects/amt/shared/lpapin/NLLoc/SVI/loc/ #LP\n",
      "LOCHYPOUT SAVE_NLLOC_ALL SAVE_HYPOINV_SUM\n",
      "LOCSEARCH OCT 17 11 6 0.001 100000 10000 0 0\n",
      "LOCMETH EDT_OT_WT 9999.0 4 -1 -1 -1 -1 -1 1\n",
      "LOCGAU 0.2 0.0\n",
      "LOCGAU2 0.01 0.05 2.0\n",
      "LOCPHASEID  P   P\n",
      "LOCPHASEID  S   S\n",
      "LOCQUAL2ERR 0.1 0.5 1.0 2.0 99999.9\n",
      "LOCGRID 30 26 32 -124.5 48.0 0.0 0.37 0.55 3.0 PROB_DENSITY SAVE #LP\n",
      "LOCPHSTAT 9999.0 -1 9999.0 1.0 1.0 9999.9 -9999.9 9999.9\n",
      "LOCANGLES ANGLES_YES 5\n",
      "LOCMAG ML_HB 1.0 1.110 0.00189\n"
     ]
    }
   ],
   "source": [
    "# What does it look like after modifying the .run file for the commands\n",
    "with open(base_dir+'nlloc_runfile_final.in', 'r') as file:\n",
    "    lines = file.readlines()\n",
    "    non_comment_lines = [line.strip() for line in lines if not line.strip().startswith('#') and line.strip()]\n",
    "    for line in non_comment_lines:\n",
    "        print(line)"
   ]
  },
  {
   "cell_type": "markdown",
   "id": "3d9c4fe3-5767-47f7-b9ec-b983fe7b9cfe",
   "metadata": {},
   "source": [
    "# Merge all in one runfile"
   ]
  },
  {
   "cell_type": "code",
   "execution_count": 13,
   "id": "c7a66211-ea35-49aa-b421-7a3c70932de1",
   "metadata": {},
   "outputs": [],
   "source": [
    "import glob\n",
    "output_file = 'nlloc_svi.in'\n",
    "input_files = glob.glob('*_final.in')[::-1]"
   ]
  },
  {
   "cell_type": "code",
   "execution_count": 14,
   "id": "9100dffb-774b-4eef-a1fb-80cadb9858fe",
   "metadata": {},
   "outputs": [
    {
     "name": "stdout",
     "output_type": "stream",
     "text": [
      "All input files merged into nlloc_svi.in\n"
     ]
    }
   ],
   "source": [
    "# Open the output file for writing\n",
    "with open(output_file, 'w') as outfile:\n",
    "    # Iterate over all matching input files\n",
    "    for fname in input_files:\n",
    "        # Open each input file for reading\n",
    "        with open(fname) as infile:\n",
    "            # Write the contents of the input file to the output file\n",
    "            outfile.write(infile.read())\n",
    "            # Add a newline to separate file contents (optional)\n",
    "            outfile.write('\\n')\n",
    "\n",
    "print(f\"All input files merged into {output_file}\")"
   ]
  }
 ],
 "metadata": {
  "kernelspec": {
   "display_name": "Python 3 (ipykernel)",
   "language": "python",
   "name": "python3"
  },
  "language_info": {
   "codemirror_mode": {
    "name": "ipython",
    "version": 3
   },
   "file_extension": ".py",
   "mimetype": "text/x-python",
   "name": "python",
   "nbconvert_exporter": "python",
   "pygments_lexer": "ipython3",
   "version": "3.11.7"
  }
 },
 "nbformat": 4,
 "nbformat_minor": 5
}
